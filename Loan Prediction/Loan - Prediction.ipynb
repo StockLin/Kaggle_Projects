{
 "cells": [
  {
   "cell_type": "markdown",
   "metadata": {},
   "source": [
    "# Problem Statement\n",
    "About Company\n",
    "Dream Housing Finance company deals in all home loans. They have presence across all urban, semi urban and rural areas. Customer first apply for home loan after that company validates the customer eligibility for loan.\n",
    "\n",
    "Problem\n",
    "Company wants to automate the loan eligibility process (real time) based on customer detail provided while filling online application form. These details are Gender, Marital Status, Education, Number of Dependents, Income, Loan Amount, Credit History and others. To automate this process, they have given a problem to identify the customers segments, those are eligible for loan amount so that they can specifically target these customers. Here they have provided a partial data set.\n",
    "\n",
    "Data\n",
    "* Variable - Description\n",
    "\n",
    "* Loan_ID - Unique Loan ID\n",
    "\n",
    "* Gender - Male/ Female\n",
    "\n",
    "* Married - Applicant married (Y/N)\n",
    "\n",
    "* Dependents - Number of dependents\n",
    "\n",
    "* Education - Applicant Education (Graduate/ Under Graduate)\n",
    "\n",
    "* Self_Employed - Self employed (Y/N)\n",
    "\n",
    "* ApplicantIncome - Applicant income\n",
    "\n",
    "* CoapplicantIncome - Coapplicant income\n",
    "\n",
    "* LoanAmount - Loan amount in thousands\n",
    "\n",
    "* Loan_Amount_Term - Term of loan in months\n",
    "\n",
    "* Credit_History - credit history meets guidelines\n",
    "\n",
    "* Property_Area - Urban/ Semi Urban/ Rural\n",
    "\n",
    "* Loan_Status - Loan approved (Y/N)"
   ]
  },
  {
   "cell_type": "code",
   "execution_count": 2,
   "metadata": {},
   "outputs": [],
   "source": [
    "import numpy as np\n",
    "import pandas as pd\n",
    "import matplotlib.pyplot as plt\n",
    "import seaborn as sns; sns.set()\n",
    "plt.style='ggplot'\n",
    "%matplotlib inline"
   ]
  },
  {
   "cell_type": "code",
   "execution_count": 3,
   "metadata": {},
   "outputs": [
    {
     "name": "stdout",
     "output_type": "stream",
     "text": [
      "Shape of train & test set:\n"
     ]
    },
    {
     "data": {
      "text/plain": [
       "((614, 13), (367, 12))"
      ]
     },
     "execution_count": 3,
     "metadata": {},
     "output_type": "execute_result"
    }
   ],
   "source": [
    "# load dataset\n",
    "train = pd.read_csv('datasets/train_u6lujuX_CVtuZ9i.csv')\n",
    "test = pd.read_csv('datasets/test_Y3wMUE5_7gLdaTN.csv')\n",
    "\n",
    "print('Shape of train & test set:')\n",
    "train.shape, test.shape"
   ]
  },
  {
   "cell_type": "code",
   "execution_count": 4,
   "metadata": {},
   "outputs": [
    {
     "name": "stdout",
     "output_type": "stream",
     "text": [
      "<class 'pandas.core.frame.DataFrame'>\n",
      "RangeIndex: 614 entries, 0 to 613\n",
      "Data columns (total 13 columns):\n",
      "Loan_ID              614 non-null object\n",
      "Gender               601 non-null object\n",
      "Married              611 non-null object\n",
      "Dependents           599 non-null object\n",
      "Education            614 non-null object\n",
      "Self_Employed        582 non-null object\n",
      "ApplicantIncome      614 non-null int64\n",
      "CoapplicantIncome    614 non-null float64\n",
      "LoanAmount           592 non-null float64\n",
      "Loan_Amount_Term     600 non-null float64\n",
      "Credit_History       564 non-null float64\n",
      "Property_Area        614 non-null object\n",
      "Loan_Status          614 non-null object\n",
      "dtypes: float64(4), int64(1), object(8)\n",
      "memory usage: 62.4+ KB\n"
     ]
    }
   ],
   "source": [
    "train.info()"
   ]
  },
  {
   "cell_type": "code",
   "execution_count": 5,
   "metadata": {},
   "outputs": [
    {
     "name": "stdout",
     "output_type": "stream",
     "text": [
      "<class 'pandas.core.frame.DataFrame'>\n",
      "RangeIndex: 367 entries, 0 to 366\n",
      "Data columns (total 12 columns):\n",
      "Loan_ID              367 non-null object\n",
      "Gender               356 non-null object\n",
      "Married              367 non-null object\n",
      "Dependents           357 non-null object\n",
      "Education            367 non-null object\n",
      "Self_Employed        344 non-null object\n",
      "ApplicantIncome      367 non-null int64\n",
      "CoapplicantIncome    367 non-null int64\n",
      "LoanAmount           362 non-null float64\n",
      "Loan_Amount_Term     361 non-null float64\n",
      "Credit_History       338 non-null float64\n",
      "Property_Area        367 non-null object\n",
      "dtypes: float64(3), int64(2), object(7)\n",
      "memory usage: 34.5+ KB\n"
     ]
    }
   ],
   "source": [
    "test.info()"
   ]
  },
  {
   "cell_type": "code",
   "execution_count": 6,
   "metadata": {},
   "outputs": [],
   "source": [
    "# ##### As you can see above, there are missing data in the train and test set."
   ]
  },
  {
   "cell_type": "code",
   "execution_count": 7,
   "metadata": {
    "scrolled": true
   },
   "outputs": [
    {
     "data": {
      "text/plain": [
       "Loan_ID               object\n",
       "Gender                object\n",
       "Married               object\n",
       "Dependents            object\n",
       "Education             object\n",
       "Self_Employed         object\n",
       "ApplicantIncome        int64\n",
       "CoapplicantIncome    float64\n",
       "LoanAmount           float64\n",
       "Loan_Amount_Term     float64\n",
       "Credit_History       float64\n",
       "Property_Area         object\n",
       "Loan_Status           object\n",
       "dtype: object"
      ]
     },
     "execution_count": 7,
     "metadata": {},
     "output_type": "execute_result"
    }
   ],
   "source": [
    "# type of vairables \n",
    "train.dtypes"
   ]
  },
  {
   "cell_type": "code",
   "execution_count": 8,
   "metadata": {},
   "outputs": [
    {
     "name": "stdout",
     "output_type": "stream",
     "text": [
      "Number of categorical features: 8\n"
     ]
    }
   ],
   "source": [
    "# find categorical variables\n",
    "categorical_feats = [var for var in train.columns if train[var].dtypes=='O' ]\n",
    "print('Number of categorical features: {}'.format(len(categorical_feats)))"
   ]
  },
  {
   "cell_type": "code",
   "execution_count": 9,
   "metadata": {},
   "outputs": [
    {
     "name": "stdout",
     "output_type": "stream",
     "text": [
      "Number of numerical features: 5\n"
     ]
    }
   ],
   "source": [
    "# find numerical variables\n",
    "numerical_feats = [var for var in train.columns if train[var].dtypes!='O' ]\n",
    "\n",
    "# Loan_ID is a unique identifier for each of the Loan. Thus this is not a variable that we can use.\n",
    "print('Number of numerical features: {}'.format(len(numerical_feats)))"
   ]
  },
  {
   "cell_type": "code",
   "execution_count": null,
   "metadata": {},
   "outputs": [],
   "source": []
  },
  {
   "cell_type": "code",
   "execution_count": 10,
   "metadata": {},
   "outputs": [
    {
     "data": {
      "text/html": [
       "<div>\n",
       "<style scoped>\n",
       "    .dataframe tbody tr th:only-of-type {\n",
       "        vertical-align: middle;\n",
       "    }\n",
       "\n",
       "    .dataframe tbody tr th {\n",
       "        vertical-align: top;\n",
       "    }\n",
       "\n",
       "    .dataframe thead th {\n",
       "        text-align: right;\n",
       "    }\n",
       "</style>\n",
       "<table border=\"1\" class=\"dataframe\">\n",
       "  <thead>\n",
       "    <tr style=\"text-align: right;\">\n",
       "      <th></th>\n",
       "      <th>Loan_ID</th>\n",
       "      <th>Gender</th>\n",
       "      <th>Married</th>\n",
       "      <th>Dependents</th>\n",
       "      <th>Education</th>\n",
       "      <th>Self_Employed</th>\n",
       "      <th>Property_Area</th>\n",
       "      <th>Loan_Status</th>\n",
       "    </tr>\n",
       "  </thead>\n",
       "  <tbody>\n",
       "    <tr>\n",
       "      <th>0</th>\n",
       "      <td>LP001002</td>\n",
       "      <td>Male</td>\n",
       "      <td>No</td>\n",
       "      <td>0</td>\n",
       "      <td>Graduate</td>\n",
       "      <td>No</td>\n",
       "      <td>Urban</td>\n",
       "      <td>Y</td>\n",
       "    </tr>\n",
       "    <tr>\n",
       "      <th>1</th>\n",
       "      <td>LP001003</td>\n",
       "      <td>Male</td>\n",
       "      <td>Yes</td>\n",
       "      <td>1</td>\n",
       "      <td>Graduate</td>\n",
       "      <td>No</td>\n",
       "      <td>Rural</td>\n",
       "      <td>N</td>\n",
       "    </tr>\n",
       "    <tr>\n",
       "      <th>2</th>\n",
       "      <td>LP001005</td>\n",
       "      <td>Male</td>\n",
       "      <td>Yes</td>\n",
       "      <td>0</td>\n",
       "      <td>Graduate</td>\n",
       "      <td>Yes</td>\n",
       "      <td>Urban</td>\n",
       "      <td>Y</td>\n",
       "    </tr>\n",
       "    <tr>\n",
       "      <th>3</th>\n",
       "      <td>LP001006</td>\n",
       "      <td>Male</td>\n",
       "      <td>Yes</td>\n",
       "      <td>0</td>\n",
       "      <td>Not Graduate</td>\n",
       "      <td>No</td>\n",
       "      <td>Urban</td>\n",
       "      <td>Y</td>\n",
       "    </tr>\n",
       "    <tr>\n",
       "      <th>4</th>\n",
       "      <td>LP001008</td>\n",
       "      <td>Male</td>\n",
       "      <td>No</td>\n",
       "      <td>0</td>\n",
       "      <td>Graduate</td>\n",
       "      <td>No</td>\n",
       "      <td>Urban</td>\n",
       "      <td>Y</td>\n",
       "    </tr>\n",
       "  </tbody>\n",
       "</table>\n",
       "</div>"
      ],
      "text/plain": [
       "    Loan_ID Gender Married Dependents     Education Self_Employed  \\\n",
       "0  LP001002   Male      No          0      Graduate            No   \n",
       "1  LP001003   Male     Yes          1      Graduate            No   \n",
       "2  LP001005   Male     Yes          0      Graduate           Yes   \n",
       "3  LP001006   Male     Yes          0  Not Graduate            No   \n",
       "4  LP001008   Male      No          0      Graduate            No   \n",
       "\n",
       "  Property_Area Loan_Status  \n",
       "0         Urban           Y  \n",
       "1         Rural           N  \n",
       "2         Urban           Y  \n",
       "3         Urban           Y  \n",
       "4         Urban           Y  "
      ]
     },
     "execution_count": 10,
     "metadata": {},
     "output_type": "execute_result"
    }
   ],
   "source": [
    "# observe the categorical features\n",
    "train[categorical_feats].head()\n",
    "\n",
    "# Loan_ID is a unique identifier for each of the Loan. Thus this is not a variable that we can use.\n",
    "# Except Property_Area have 3 level, others are binary.\n",
    "### before use the categorical data, we need to convert them to dummy."
   ]
  },
  {
   "cell_type": "code",
   "execution_count": 11,
   "metadata": {},
   "outputs": [
    {
     "data": {
      "text/html": [
       "<div>\n",
       "<style scoped>\n",
       "    .dataframe tbody tr th:only-of-type {\n",
       "        vertical-align: middle;\n",
       "    }\n",
       "\n",
       "    .dataframe tbody tr th {\n",
       "        vertical-align: top;\n",
       "    }\n",
       "\n",
       "    .dataframe thead th {\n",
       "        text-align: right;\n",
       "    }\n",
       "</style>\n",
       "<table border=\"1\" class=\"dataframe\">\n",
       "  <thead>\n",
       "    <tr style=\"text-align: right;\">\n",
       "      <th></th>\n",
       "      <th>ApplicantIncome</th>\n",
       "      <th>CoapplicantIncome</th>\n",
       "      <th>LoanAmount</th>\n",
       "      <th>Loan_Amount_Term</th>\n",
       "      <th>Credit_History</th>\n",
       "    </tr>\n",
       "  </thead>\n",
       "  <tbody>\n",
       "    <tr>\n",
       "      <th>0</th>\n",
       "      <td>5849</td>\n",
       "      <td>0.0</td>\n",
       "      <td>NaN</td>\n",
       "      <td>360.0</td>\n",
       "      <td>1.0</td>\n",
       "    </tr>\n",
       "    <tr>\n",
       "      <th>1</th>\n",
       "      <td>4583</td>\n",
       "      <td>1508.0</td>\n",
       "      <td>128.0</td>\n",
       "      <td>360.0</td>\n",
       "      <td>1.0</td>\n",
       "    </tr>\n",
       "    <tr>\n",
       "      <th>2</th>\n",
       "      <td>3000</td>\n",
       "      <td>0.0</td>\n",
       "      <td>66.0</td>\n",
       "      <td>360.0</td>\n",
       "      <td>1.0</td>\n",
       "    </tr>\n",
       "    <tr>\n",
       "      <th>3</th>\n",
       "      <td>2583</td>\n",
       "      <td>2358.0</td>\n",
       "      <td>120.0</td>\n",
       "      <td>360.0</td>\n",
       "      <td>1.0</td>\n",
       "    </tr>\n",
       "    <tr>\n",
       "      <th>4</th>\n",
       "      <td>6000</td>\n",
       "      <td>0.0</td>\n",
       "      <td>141.0</td>\n",
       "      <td>360.0</td>\n",
       "      <td>1.0</td>\n",
       "    </tr>\n",
       "  </tbody>\n",
       "</table>\n",
       "</div>"
      ],
      "text/plain": [
       "   ApplicantIncome  CoapplicantIncome  LoanAmount  Loan_Amount_Term  \\\n",
       "0             5849                0.0         NaN             360.0   \n",
       "1             4583             1508.0       128.0             360.0   \n",
       "2             3000                0.0        66.0             360.0   \n",
       "3             2583             2358.0       120.0             360.0   \n",
       "4             6000                0.0       141.0             360.0   \n",
       "\n",
       "   Credit_History  \n",
       "0             1.0  \n",
       "1             1.0  \n",
       "2             1.0  \n",
       "3             1.0  \n",
       "4             1.0  "
      ]
     },
     "execution_count": 11,
     "metadata": {},
     "output_type": "execute_result"
    }
   ],
   "source": [
    "# observe numerical variables\n",
    "train[numerical_feats].head()"
   ]
  },
  {
   "cell_type": "markdown",
   "metadata": {},
   "source": [
    "### Missing & Outlier process for Numeric features"
   ]
  },
  {
   "cell_type": "code",
   "execution_count": 12,
   "metadata": {},
   "outputs": [
    {
     "data": {
      "text/plain": [
       "Loan_ID              0.000000\n",
       "Gender               0.021173\n",
       "Married              0.004886\n",
       "Dependents           0.024430\n",
       "Education            0.000000\n",
       "Self_Employed        0.052117\n",
       "ApplicantIncome      0.000000\n",
       "CoapplicantIncome    0.000000\n",
       "LoanAmount           0.035831\n",
       "Loan_Amount_Term     0.022801\n",
       "Credit_History       0.081433\n",
       "Property_Area        0.000000\n",
       "Loan_Status          0.000000\n",
       "dtype: float64"
      ]
     },
     "execution_count": 12,
     "metadata": {},
     "output_type": "execute_result"
    }
   ],
   "source": [
    "# missing value\n",
    "\n",
    "train.isnull().mean()\n",
    "\n",
    "# Most of features which has missing values < 10%.\n",
    "# for categorical features I will fill them by mode(high frequency).\n",
    "# for numerical features I will fill them by mean(It need to remove outlier row before)."
   ]
  },
  {
   "cell_type": "markdown",
   "metadata": {},
   "source": []
  },
  {
   "cell_type": "code",
   "execution_count": 13,
   "metadata": {},
   "outputs": [
    {
     "data": {
      "text/plain": [
       "ApplicantIncome       0\n",
       "CoapplicantIncome     0\n",
       "LoanAmount           22\n",
       "Loan_Amount_Term     14\n",
       "Credit_History       50\n",
       "dtype: int64"
      ]
     },
     "execution_count": 13,
     "metadata": {},
     "output_type": "execute_result"
    }
   ],
   "source": [
    "train[numerical_feats].isnull().sum()"
   ]
  },
  {
   "cell_type": "code",
   "execution_count": 14,
   "metadata": {},
   "outputs": [
    {
     "data": {
      "text/plain": [
       "<matplotlib.axes._subplots.AxesSubplot at 0xae06160>"
      ]
     },
     "execution_count": 14,
     "metadata": {},
     "output_type": "execute_result"
    },
    {
     "data": {
      "image/png": "[encoded data removed]",
      "text/plain": [
       "<matplotlib.figure.Figure at 0xac5db70>"
      ]
     },
     "metadata": {},
     "output_type": "display_data"
    }
   ],
   "source": [
    "######## continuous feature process\n",
    "\n",
    "\n",
    "# plot the boxplot for continuous features\n",
    "fig, axs = plt.subplots(1, 3, figsize=(16,8))\n",
    "\n",
    "sns.boxplot(train['ApplicantIncome'], orient='vertical', ax=axs[0])\n",
    "\n",
    "sns.boxplot(train['CoapplicantIncome'], orient='vertical', ax=axs[1])\n",
    "\n",
    "sns.boxplot(train['LoanAmount'], orient='vertical', ax=axs[2])\n",
    "\n",
    "\n",
    "# although there are some outlier in the ApplicantIncome, CoapplicantIncome and LoanAmount\n",
    "# but it is reasonable data, because few people have high income and high loan amount."
   ]
  },
  {
   "cell_type": "code",
   "execution_count": 15,
   "metadata": {},
   "outputs": [],
   "source": [
    "# fill missing data\n",
    "# ApplicantIncome & CoapplicantIncome do not have missing datas\n",
    "# LoanAmount fill missing data by mean\n",
    "train['LoanAmount'].fillna(train['LoanAmount'].mean(), inplace=True)\n",
    "test['LoanAmount'].fillna(test['LoanAmount'].mean(), inplace=True)"
   ]
  },
  {
   "cell_type": "code",
   "execution_count": 16,
   "metadata": {},
   "outputs": [
    {
     "data": {
      "text/plain": [
       "<matplotlib.axes._subplots.AxesSubplot at 0xaee2f28>"
      ]
     },
     "execution_count": 16,
     "metadata": {},
     "output_type": "execute_result"
    },
    {
     "data": {
      "image/png": "[encoded data removed]",
      "text/plain": [
       "<matplotlib.figure.Figure at 0xac5d160>"
      ]
     },
     "metadata": {},
     "output_type": "display_data"
    }
   ],
   "source": [
    "# let see the distribution\n",
    "fig, axs = plt.subplots(1,3, figsize=(16,8))\n",
    "\n",
    "# ApplicantIncome distribution\n",
    "sns.distplot(train['ApplicantIncome'], ax=axs[0])\n",
    "# CoapplicantIncome distribution\n",
    "sns.distplot(train['CoapplicantIncome'], ax=axs[1])\n",
    "# LoanAmount distribution\n",
    "sns.distplot(train['LoanAmount'], ax=axs[2])"
   ]
  },
  {
   "cell_type": "code",
   "execution_count": 17,
   "metadata": {},
   "outputs": [
    {
     "name": "stderr",
     "output_type": "stream",
     "text": [
      "C:\\Users\\nxf43788\\AppData\\Local\\Continuum\\anaconda3\\lib\\site-packages\\ipykernel_launcher.py:3: RuntimeWarning: divide by zero encountered in log\n",
      "  This is separate from the ipykernel package so we can avoid doing imports until\n"
     ]
    }
   ],
   "source": [
    "# try to let ApplicantIncome & LoanAmount mort normal distribution\n",
    "train['ApplicantIncome'] = np.log(train['ApplicantIncome'])\n",
    "test['ApplicantIncome'] = np.log(test['ApplicantIncome'])\n",
    "\n",
    "train['LoanAmount'] = np.log(train['LoanAmount'])\n",
    "test['LoanAmount'] = np.log(test['LoanAmount'])"
   ]
  },
  {
   "cell_type": "code",
   "execution_count": 18,
   "metadata": {},
   "outputs": [
    {
     "data": {
      "text/plain": [
       "<matplotlib.axes._subplots.AxesSubplot at 0xb119208>"
      ]
     },
     "execution_count": 18,
     "metadata": {},
     "output_type": "execute_result"
    },
    {
     "data": {
      "image/png": "[encoded data removed]",
      "text/plain": [
       "<matplotlib.figure.Figure at 0xac1df60>"
      ]
     },
     "metadata": {},
     "output_type": "display_data"
    }
   ],
   "source": [
    "fig, axs = plt.subplots(1, 2, figsize=(16,8))\n",
    "\n",
    "sns.distplot(train['ApplicantIncome'], ax=axs[0])\n",
    "sns.distplot(train['LoanAmount'], ax=axs[1])"
   ]
  },
  {
   "cell_type": "code",
   "execution_count": null,
   "metadata": {},
   "outputs": [],
   "source": []
  },
  {
   "cell_type": "code",
   "execution_count": 19,
   "metadata": {},
   "outputs": [
    {
     "name": "stdout",
     "output_type": "stream",
     "text": [
      "Number of Credit_History missing datas: 50\n",
      "Number of Loan_Amount_Term missing datas: 14\n"
     ]
    }
   ],
   "source": [
    "##### discrete features process\n",
    "print('Number of Credit_History missing datas: {}'.format(train['Credit_History'].isnull().sum()))\n",
    "print('Number of Loan_Amount_Term missing datas: {}'.format(train['Loan_Amount_Term'].isnull().sum()))"
   ]
  },
  {
   "cell_type": "code",
   "execution_count": 20,
   "metadata": {},
   "outputs": [
    {
     "data": {
      "text/plain": [
       "1.0    475\n",
       "0.0     89\n",
       "Name: Credit_History, dtype: int64"
      ]
     },
     "execution_count": 20,
     "metadata": {},
     "output_type": "execute_result"
    }
   ],
   "source": [
    "train['Credit_History'].value_counts()"
   ]
  },
  {
   "cell_type": "code",
   "execution_count": 21,
   "metadata": {},
   "outputs": [
    {
     "name": "stdout",
     "output_type": "stream",
     "text": [
      "=========== After filled NaN ===================\n",
      "Train Credit_History missing datas: 0\n",
      "Test Credit_History missing datas: 0\n"
     ]
    }
   ],
   "source": [
    "# most of data is 1, so here I fill NaN with 1\n",
    "train['Credit_History'].fillna(1, inplace=True)\n",
    "test['Credit_History'].fillna(1, inplace=True)\n",
    "\n",
    "print('=========== After filled NaN ===================')\n",
    "print('Train Credit_History missing datas: {}'.format(train['Credit_History'].isnull().sum()))\n",
    "print('Test Credit_History missing datas: {}'.format(test['Credit_History'].isnull().sum()))"
   ]
  },
  {
   "cell_type": "code",
   "execution_count": 22,
   "metadata": {},
   "outputs": [
    {
     "data": {
      "text/plain": [
       "360.0    512\n",
       "180.0     44\n",
       "480.0     15\n",
       "300.0     13\n",
       "84.0       4\n",
       "240.0      4\n",
       "120.0      3\n",
       "36.0       2\n",
       "60.0       2\n",
       "12.0       1\n",
       "Name: Loan_Amount_Term, dtype: int64"
      ]
     },
     "execution_count": 22,
     "metadata": {},
     "output_type": "execute_result"
    }
   ],
   "source": [
    "train['Loan_Amount_Term'].value_counts()"
   ]
  },
  {
   "cell_type": "code",
   "execution_count": 23,
   "metadata": {},
   "outputs": [
    {
     "name": "stdout",
     "output_type": "stream",
     "text": [
      "=========== After filled NaN ===================\n",
      "Train Loan_Amount_Term missing datas: 0\n",
      "Test Loan_Amount_Term missing datas: 0\n"
     ]
    }
   ],
   "source": [
    "# most of data is 1, so here I fill NaN with 1\n",
    "train['Loan_Amount_Term'].fillna(360.0, inplace=True)\n",
    "test['Loan_Amount_Term'].fillna(360.0, inplace=True)\n",
    "\n",
    "print('=========== After filled NaN ===================')\n",
    "print('Train Loan_Amount_Term missing datas: {}'.format(train['Loan_Amount_Term'].isnull().sum()))\n",
    "print('Test Loan_Amount_Term missing datas: {}'.format(test['Loan_Amount_Term'].isnull().sum()))"
   ]
  },
  {
   "cell_type": "code",
   "execution_count": null,
   "metadata": {},
   "outputs": [],
   "source": []
  },
  {
   "cell_type": "markdown",
   "metadata": {},
   "source": [
    "### Missing & Outlier process for Categorical features"
   ]
  },
  {
   "cell_type": "code",
   "execution_count": 24,
   "metadata": {},
   "outputs": [
    {
     "name": "stdout",
     "output_type": "stream",
     "text": [
      "['Loan_ID', 'Gender', 'Married', 'Dependents', 'Education', 'Self_Employed', 'Property_Area', 'Loan_Status']\n",
      "\n",
      "==============Remove Loan_ID ===============\n"
     ]
    },
    {
     "data": {
      "text/plain": [
       "['Gender',\n",
       " 'Married',\n",
       " 'Dependents',\n",
       " 'Education',\n",
       " 'Self_Employed',\n",
       " 'Property_Area',\n",
       " 'Loan_Status']"
      ]
     },
     "execution_count": 24,
     "metadata": {},
     "output_type": "execute_result"
    }
   ],
   "source": [
    "print(categorical_feats)\n",
    "\n",
    "# Load_ID is unique value, remove the load_ID\n",
    "print('\\n==============Remove Loan_ID ===============')\n",
    "categorical_feats.remove('Loan_ID')\n",
    "categorical_feats"
   ]
  },
  {
   "cell_type": "code",
   "execution_count": 25,
   "metadata": {},
   "outputs": [
    {
     "data": {
      "text/plain": [
       "Gender           0.021173\n",
       "Married          0.004886\n",
       "Dependents       0.024430\n",
       "Education        0.000000\n",
       "Self_Employed    0.052117\n",
       "Property_Area    0.000000\n",
       "Loan_Status      0.000000\n",
       "dtype: float64"
      ]
     },
     "execution_count": 25,
     "metadata": {},
     "output_type": "execute_result"
    }
   ],
   "source": [
    "# visualize percentage of missing data\n",
    "train[categorical_feats].isnull().mean()"
   ]
  },
  {
   "cell_type": "code",
   "execution_count": null,
   "metadata": {},
   "outputs": [],
   "source": []
  },
  {
   "cell_type": "code",
   "execution_count": 26,
   "metadata": {},
   "outputs": [
    {
     "name": "stdout",
     "output_type": "stream",
     "text": [
      "====== Gender =======\n",
      "Male      489\n",
      "Female    112\n",
      "Name: Gender, dtype: int64 \n",
      "\n",
      "====== Married =======\n",
      "Yes    398\n",
      "No     213\n",
      "Name: Married, dtype: int64 \n",
      "\n",
      "====== Dependents =======\n",
      "0     345\n",
      "1     102\n",
      "2     101\n",
      "3+     51\n",
      "Name: Dependents, dtype: int64 \n",
      "\n",
      "====== Self_Employed =======\n",
      "No     500\n",
      "Yes     82\n",
      "Name: Self_Employed, dtype: int64 \n",
      "\n"
     ]
    }
   ],
   "source": [
    "# As ypu can see above, Gender, Married, Dependents and Self_Employed have missing data\n",
    "print('====== Gender =======')\n",
    "print(train['Gender'].value_counts(), '\\n')\n",
    "\n",
    "print('====== Married =======')\n",
    "print(train['Married'].value_counts(), '\\n')\n",
    "\n",
    "print('====== Dependents =======')\n",
    "print(train['Dependents'].value_counts(), '\\n')\n",
    "\n",
    "print('====== Self_Employed =======')\n",
    "print(train['Self_Employed'].value_counts(), '\\n')"
   ]
  },
  {
   "cell_type": "code",
   "execution_count": 27,
   "metadata": {},
   "outputs": [
    {
     "data": {
      "text/plain": [
       "<matplotlib.axes._subplots.AxesSubplot at 0xb52deb8>"
      ]
     },
     "execution_count": 27,
     "metadata": {},
     "output_type": "execute_result"
    },
    {
     "data": {
      "image/png": "[encoded data removed]",
      "text/plain": [
       "<matplotlib.figure.Figure at 0xb46cba8>"
      ]
     },
     "metadata": {},
     "output_type": "display_data"
    }
   ],
   "source": [
    "fig, axs = plt.subplots(2, 2, figsize=(16,8))\n",
    "\n",
    "sns.countplot(train['Gender'], hue=train['Loan_Status'], ax=axs[0][0])\n",
    "sns.countplot(train['Married'], hue=train['Loan_Status'], ax=axs[0][1])\n",
    "sns.countplot(train['Dependents'], hue=train['Loan_Status'], ax=axs[1][0])\n",
    "sns.countplot(train['Self_Employed'], hue=train['Loan_Status'], ax=axs[1][1])"
   ]
  },
  {
   "cell_type": "code",
   "execution_count": 28,
   "metadata": {},
   "outputs": [
    {
     "name": "stdout",
     "output_type": "stream",
     "text": [
      "================= Before fill Missing data ===================\n",
      "Gender           0.021173\n",
      "Married          0.004886\n",
      "Dependents       0.024430\n",
      "Education        0.000000\n",
      "Self_Employed    0.052117\n",
      "Property_Area    0.000000\n",
      "Loan_Status      0.000000\n",
      "dtype: float64\n",
      "\n",
      "\n",
      "================= After fill Missing data ===================\n",
      "Gender           0.0\n",
      "Married          0.0\n",
      "Dependents       0.0\n",
      "Education        0.0\n",
      "Self_Employed    0.0\n",
      "Property_Area    0.0\n",
      "Loan_Status      0.0\n",
      "dtype: float64\n"
     ]
    }
   ],
   "source": [
    "# =================Filled Missing data by mode ==================\n",
    "print('================= Before fill Missing data ===================')\n",
    "print(train[categorical_feats].isnull().mean())\n",
    "\n",
    "train['Gender'].fillna('Male', inplace=True)\n",
    "test['Gender'].fillna('Male', inplace=True)\n",
    "\n",
    "train['Married'].fillna('Yes', inplace=True)\n",
    "test['Married'].fillna('Yes', inplace=True)\n",
    "\n",
    "train['Dependents'].fillna('0', inplace=True)\n",
    "test['Dependents'].fillna('0', inplace=True)\n",
    "\n",
    "train['Self_Employed'].fillna('No', inplace=True)\n",
    "test['Self_Employed'].fillna('No', inplace=True)\n",
    "\n",
    "\n",
    "print('\\n\\n================= After fill Missing data ===================')\n",
    "print(train[categorical_feats].isnull().mean())"
   ]
  },
  {
   "cell_type": "code",
   "execution_count": null,
   "metadata": {},
   "outputs": [],
   "source": []
  },
  {
   "cell_type": "code",
   "execution_count": 29,
   "metadata": {},
   "outputs": [],
   "source": [
    "# split train into input X and output y \n",
    "X = train.iloc[:, 1:-1]\n",
    "y = train.iloc[:, -1]\n",
    "\n",
    "# convert target y to dummy variables\n",
    "y = pd.get_dummies(y, drop_first=True)['Y'].values\n",
    "\n",
    "# drop test set first columns\n",
    "test.drop('Loan_ID', axis=1, inplace=True)\n",
    "\n",
    "# encoding label in to dummies\n",
    "X = pd.get_dummies(X, drop_first=True)\n",
    "test = pd.get_dummies(test, drop_first=True)"
   ]
  },
  {
   "cell_type": "code",
   "execution_count": 30,
   "metadata": {},
   "outputs": [
    {
     "data": {
      "text/plain": [
       "<matplotlib.axes._subplots.AxesSubplot at 0xbc092e8>"
      ]
     },
     "execution_count": 30,
     "metadata": {},
     "output_type": "execute_result"
    },
    {
     "data": {
      "image/png": "[encoded data removed]",
      "text/plain": [
       "<matplotlib.figure.Figure at 0xb5ccc18>"
      ]
     },
     "metadata": {},
     "output_type": "display_data"
    }
   ],
   "source": [
    "# Compute the correlation matrix\n",
    "corr = X[numerical_feats].corr()\n",
    "\n",
    "# Generate a mask for the upper triangle\n",
    "mask = np.zeros_like(corr, dtype=np.bool)\n",
    "mask[np.triu_indices_from(mask)] = True\n",
    "\n",
    "# Set up the matplotlib figure\n",
    "f, ax = plt.subplots(figsize=(11, 9))\n",
    "\n",
    "# Generate a custom diverging colormap\n",
    "cmap = sns.diverging_palette(200, 10, as_cmap=True)\n",
    "\n",
    "# Draw the heatmap with the mask and correct aspect ratio\n",
    "sns.heatmap(corr, mask=mask, cmap=cmap, vmax=.3, center=0,\n",
    "            square=True, linewidths=.5, cbar_kws={\"shrink\": .5})\n",
    "\n",
    "# as you can see, the input X does not have high correlation for each others\n",
    "# so we don't need to process the input X correlation"
   ]
  },
  {
   "cell_type": "markdown",
   "metadata": {},
   "source": [
    "# Select and fit model "
   ]
  },
  {
   "cell_type": "code",
   "execution_count": 31,
   "metadata": {},
   "outputs": [],
   "source": [
    "from sklearn.model_selection import train_test_split"
   ]
  },
  {
   "cell_type": "code",
   "execution_count": 32,
   "metadata": {},
   "outputs": [
    {
     "name": "stdout",
     "output_type": "stream",
     "text": [
      "=================== Shape of train and test set =======================\n",
      "\n",
      "Shape of X_train: (491, 14)\n",
      "Shape of X_test: (123, 14)\n",
      "Shape of y_train: (491,)\n",
      "Shape of y_test: (123,)\n"
     ]
    }
   ],
   "source": [
    "# splitting X and y into train and tests sets\n",
    "X_train, X_test, y_train, y_test = train_test_split(X, y, test_size=0.2, random_state=13)\n",
    "\n",
    "print('=================== Shape of train and test set =======================\\n')\n",
    "print('Shape of X_train: {}'.format(X_train.shape))\n",
    "print('Shape of X_test: {}'.format(X_test.shape))\n",
    "print('Shape of y_train: {}'.format(y_train.shape))\n",
    "print('Shape of y_test: {}'.format(y_test.shape))"
   ]
  },
  {
   "cell_type": "code",
   "execution_count": 33,
   "metadata": {},
   "outputs": [],
   "source": [
    "from sklearn import model_selection\n",
    "from sklearn.linear_model import LogisticRegression\n",
    "from sklearn.tree import DecisionTreeClassifier\n",
    "from sklearn.neighbors import KNeighborsClassifier\n",
    "from sklearn.discriminant_analysis import LinearDiscriminantAnalysis\n",
    "from sklearn.naive_bayes import GaussianNB\n",
    "from sklearn.svm import SVC\n",
    "from sklearn.metrics import confusion_matrix"
   ]
  },
  {
   "cell_type": "code",
   "execution_count": 34,
   "metadata": {},
   "outputs": [
    {
     "name": "stdout",
     "output_type": "stream",
     "text": [
      "LR: 0.806327 (0.063037)\n",
      "LDA: 0.808367 (0.063655)\n",
      "KNN: 0.647633 (0.071402)\n",
      "CART: 0.718735 (0.058922)\n",
      "NB: 0.796204 (0.056578)\n",
      "SVM: 0.743224 (0.051518)\n"
     ]
    },
    {
     "data": {
      "image/png": "[encoded data removed]",
      "text/plain": [
       "<matplotlib.figure.Figure at 0xca47ba8>"
      ]
     },
     "metadata": {},
     "output_type": "display_data"
    }
   ],
   "source": [
    "# prepare configuration for cross validation test harness\n",
    "seed = 7\n",
    "# prepare models\n",
    "models = []\n",
    "models.append(('LR', LogisticRegression()))\n",
    "models.append(('LDA', LinearDiscriminantAnalysis()))\n",
    "models.append(('KNN', KNeighborsClassifier()))\n",
    "models.append(('CART', DecisionTreeClassifier()))\n",
    "models.append(('NB', GaussianNB()))\n",
    "models.append(('SVM', SVC()))\n",
    "\n",
    "# evaluate each model in turn\n",
    "results = []\n",
    "names = []\n",
    "scoring = 'accuracy'\n",
    "for name, model in models:\n",
    "    kfold = model_selection.KFold(n_splits=10, random_state=seed)\n",
    "    cv_results = model_selection.cross_val_score(model, X_train, y_train, cv=kfold, scoring=scoring)\n",
    "    results.append(cv_results)\n",
    "    names.append(name)\n",
    "    msg = \"%s: %f (%f)\" % (name, cv_results.mean(), cv_results.std())\n",
    "    print(msg)\n",
    "    \n",
    "# boxplot algorithm comparison\n",
    "fig = plt.figure(figsize=(16,9))\n",
    "fig.suptitle('Algorithm Comparison')\n",
    "ax = fig.add_subplot(111)\n",
    "plt.boxplot(results)\n",
    "ax.set_xticklabels(names)\n",
    "plt.show()"
   ]
  },
  {
   "cell_type": "code",
   "execution_count": 35,
   "metadata": {},
   "outputs": [
    {
     "name": "stdout",
     "output_type": "stream",
     "text": [
      "==================== Confusion matrix of LDA =====================\n",
      "[[13 22]\n",
      " [ 1 87]]\n",
      "\n",
      "==================== LDA with cross validation =====================\n",
      "Average score: 0.8084438775510204\n",
      "Model variance: 0.03698260095010062\n"
     ]
    }
   ],
   "source": [
    "# as you can see above Logistic Regression and LDA have high accuracy\n",
    "# svm are more stable than others\n",
    "\n",
    "lda_clf = LinearDiscriminantAnalysis()\n",
    "lda_clf.fit(X_train, y_train)\n",
    "y_pred = lda_clf.predict(X_test)\n",
    "\n",
    "print('==================== Confusion matrix of LDA =====================')\n",
    "print(confusion_matrix(y_test, y_pred))\n",
    "\n",
    "print('\\n==================== LDA with cross validation =====================')\n",
    "lda_score = model_selection.cross_val_score(lda_clf, X_train, y_train, cv=10, scoring='accuracy')\n",
    "print('Average score: {}'.format(lda_score.mean()))\n",
    "print('Model variance: {}'.format(lda_score.std()))"
   ]
  },
  {
   "cell_type": "code",
   "execution_count": null,
   "metadata": {
    "scrolled": false
   },
   "outputs": [],
   "source": []
  },
  {
   "cell_type": "code",
   "execution_count": 36,
   "metadata": {},
   "outputs": [],
   "source": [
    "# let's improve the accuracy by feature selection\n",
    "# we will try to find the high contribution feature and use only that feature to fit out model\n",
    "# here we will use Lasso regularisation to do feature selection\n",
    "# Lasso or l1 has the property that is able to shrink some of the coefficients to zero. Therefore, that feature can be removed from the model\n",
    "\n",
    "# first we need to let our features have same scale for each others\n",
    "from sklearn.preprocessing import StandardScaler\n",
    "from sklearn.feature_selection import SelectFromModel\n",
    "\n",
    "scaler = StandardScaler()\n",
    "# scale the train and test\n",
    "X_train_sc = scaler.fit_transform(X_train) # train scale\n",
    "X_test_sc = scaler.transform(X_test) # test scale"
   ]
  },
  {
   "cell_type": "code",
   "execution_count": 37,
   "metadata": {},
   "outputs": [
    {
     "data": {
      "text/plain": [
       "SelectFromModel(estimator=LogisticRegression(C=1.0, class_weight=None, dual=False, fit_intercept=True,\n",
       "          intercept_scaling=1, max_iter=100, multi_class='ovr', n_jobs=1,\n",
       "          penalty='l1', random_state=None, solver='liblinear', tol=0.0001,\n",
       "          verbose=0, warm_start=False),\n",
       "        norm_order=1, prefit=False, threshold=None)"
      ]
     },
     "execution_count": 37,
     "metadata": {},
     "output_type": "execute_result"
    }
   ],
   "source": [
    "# here I will do the model fitting and feature selection\n",
    "# altogether in one line of code\n",
    "\n",
    "# first I specify the Logistic Regression model, and I\n",
    "# make sure I select the Lasso (l1) penalty.\n",
    "\n",
    "# Then I use the selectFromModel object from sklearn, which\n",
    "# will select in theory the features which coefficients are non-zero\n",
    "\n",
    "sel_ = SelectFromModel(LogisticRegression(penalty='l1'))\n",
    "sel_.fit(X_train_sc, y_train)"
   ]
  },
  {
   "cell_type": "code",
   "execution_count": 38,
   "metadata": {},
   "outputs": [
    {
     "name": "stdout",
     "output_type": "stream",
     "text": [
      "================== Before Feature Selection ==================\n",
      "Number of features: 14\n",
      "\n",
      "================== After Feature Selection ==================\n",
      "Number of features: 13\n",
      "================== Removed Feature ==================\n",
      "Removed features: Index(['Loan_Amount_Term'], dtype='object')\n"
     ]
    }
   ],
   "source": [
    "# get the selected feature\n",
    "selected_feats = X_train.columns[sel_.get_support()]\n",
    "# removed features\n",
    "removed_feats = X_train.columns[(sel_.estimator_.coef_ == 0).ravel().tolist()]\n",
    "\n",
    "print('================== Before Feature Selection ==================')\n",
    "print('Number of features: {}\\n'.format(len(X_train.columns)))\n",
    "\n",
    "print('================== After Feature Selection ==================')\n",
    "print('Number of features: {}'.format(len(X_train[selected_feats].columns)))\n",
    "\n",
    "print('================== Removed Feature ==================')\n",
    "print('Removed features: {}'.format(X_train[removed_feats].columns))"
   ]
  },
  {
   "cell_type": "code",
   "execution_count": 39,
   "metadata": {},
   "outputs": [
    {
     "name": "stdout",
     "output_type": "stream",
     "text": [
      "====================== Confusion matrix =========================\n",
      "\n",
      "[[13 22]\n",
      " [ 1 87]]\n",
      "====================== Evaluate by cross validation =========================\n",
      "\n",
      "Average score: 0.8084438775510204\n",
      "Variance: 0.03698260095010062\n"
     ]
    }
   ],
   "source": [
    "# build LDA model and fit that model with selected features\n",
    "\n",
    "# we can then remove the features from the training and testing set\n",
    "X_train_selected = sel_.transform(X_train)\n",
    "X_test_selected = sel_.transform(X_test)\n",
    "\n",
    "# we have already build LDA model at previous cell\n",
    "# so it's find to re-fit the different data to same model\n",
    "lda_clf.fit(X_train_selected, y_train)\n",
    "\n",
    "# make a predcition by logi_reg model\n",
    "y_pred = lda_clf.predict(X_test_selected)\n",
    "# evaluate the model performance by confusion matrix\n",
    "print('====================== Confusion matrix =========================\\n')\n",
    "print(confusion_matrix(y_test, y_pred))\n",
    "\n",
    "print('====================== Evaluate by cross validation =========================\\n')\n",
    "# calculate the validation with 10 folds\n",
    "lda_score = model_selection.cross_val_score(lda_clf, X_train_selected, y_train, cv=10, scoring='accuracy', n_jobs=4)\n",
    "print('Average score: {}'.format(lda_score.mean()))\n",
    "print('Variance: {}'.format(lda_score.std()))\n",
    "\n",
    "# after do feature selection our performace doesn't improve\n",
    "# the reason is our features is few\n",
    "# so  we do need to do selection for this data actually\n",
    "# ### but when the high dimension(ex: have #features > 100) in your data set\n",
    "# ### the feature selection will be improved a lot performace in this situation"
   ]
  },
  {
   "cell_type": "code",
   "execution_count": null,
   "metadata": {},
   "outputs": [],
   "source": []
  },
  {
   "cell_type": "code",
   "execution_count": null,
   "metadata": {},
   "outputs": [],
   "source": []
  },
  {
   "cell_type": "code",
   "execution_count": 40,
   "metadata": {},
   "outputs": [
    {
     "name": "stderr",
     "output_type": "stream",
     "text": [
      "C:\\Users\\nxf43788\\AppData\\Local\\Continuum\\anaconda3\\lib\\site-packages\\sklearn\\cross_validation.py:41: DeprecationWarning: This module was deprecated in version 0.18 in favor of the model_selection module into which all the refactored classes and functions are moved. Also note that the interface of the new CV iterators are different from that of this module. This module will be removed in 0.20.\n",
      "  \"This module will be removed in 0.20.\", DeprecationWarning)\n",
      "C:\\Users\\nxf43788\\AppData\\Local\\Continuum\\anaconda3\\lib\\site-packages\\sklearn\\grid_search.py:42: DeprecationWarning: This module was deprecated in version 0.18 in favor of the model_selection module into which all the refactored classes and functions are moved. This module will be removed in 0.20.\n",
      "  DeprecationWarning)\n"
     ]
    },
    {
     "name": "stdout",
     "output_type": "stream",
     "text": [
      "Confusion matrix: \n",
      "[[14 21]\n",
      " [ 5 83]]\n"
     ]
    }
   ],
   "source": [
    "# ==============================================================\n",
    "# ===================== Grid Search for SVM ====================\n",
    "# ==============================================================\n",
    "\n",
    "# here I try svm with grid search to find the best hyperparameter\n",
    "from sklearn.grid_search import GridSearchCV\n",
    "\n",
    "# param_grid = [\n",
    "#   {'C': [1, 10, 100, 1000], 'kernel': ['linear']},\n",
    "#   {'C': [1, 10, 100, 1000], 'degree': [2, 3, 4], 'kernel': ['poly']},\n",
    "#   {'C': [1, 10, 100, 1000], 'gamma': [1e-2, 1e-3, 1e-4], 'kernel': ['rbf']},\n",
    "# ]\n",
    "\n",
    "# fit the grid search to find the best candidates\n",
    "# grid = GridSearchCV(estimator=SVC(), param_grid=param_grid, cv=10, n_jobs=4)\n",
    "# grid.fit(X_train, y_train)\n",
    "\n",
    "# print('====================== Result ======================\\n')\n",
    "# print('Best hyperparameter: {}'.format(grid.best_params_ ))\n",
    "# print('Best score: {}'.format(grid.best_score_))\n",
    "\n",
    "# fit the model with best hyperparameter\n",
    "# bs_model = grid.best_estimator_ \n",
    "# bs_model.fit(X_train, y_train)\n",
    "\n",
    "# make a prediction\n",
    "# y_pred = bs_model.predict(X_test)\n",
    "\n",
    "svc = SVC(kernel='linear', C=100)\n",
    "svc.fit(X_train, y_train)\n",
    "y_pred = svc.predict(X_test)\n",
    "# evaluate the model by confusion matrix\n",
    "conf_mx = confusion_matrix(y_test, y_pred)\n",
    "print('Confusion matrix: \\n{}'.format(conf_mx))"
   ]
  },
  {
   "cell_type": "code",
   "execution_count": null,
   "metadata": {},
   "outputs": [],
   "source": []
  },
  {
   "cell_type": "code",
   "execution_count": null,
   "metadata": {},
   "outputs": [],
   "source": []
  },
  {
   "cell_type": "code",
   "execution_count": null,
   "metadata": {},
   "outputs": [],
   "source": []
  },
  {
   "cell_type": "code",
   "execution_count": null,
   "metadata": {},
   "outputs": [],
   "source": []
  },
  {
   "cell_type": "code",
   "execution_count": null,
   "metadata": {},
   "outputs": [],
   "source": []
  }
 ],
 "metadata": {
  "kernelspec": {
   "display_name": "Python 3",
   "language": "python",
   "name": "python3"
  },
  "language_info": {
   "codemirror_mode": {
    "name": "ipython",
    "version": 3
   },
   "file_extension": ".py",
   "mimetype": "text/x-python",
   "name": "python",
   "nbconvert_exporter": "python",
   "pygments_lexer": "ipython3",
   "version": "3.6.4"
  }
 },
 "nbformat": 4,
 "nbformat_minor": 2
}
