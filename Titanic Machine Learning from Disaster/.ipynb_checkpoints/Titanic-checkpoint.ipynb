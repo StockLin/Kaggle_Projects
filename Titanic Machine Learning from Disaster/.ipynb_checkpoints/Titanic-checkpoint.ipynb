{
 "cells": [
  {
   "cell_type": "code",
   "execution_count": 1,
   "metadata": {},
   "outputs": [],
   "source": [
    "import numpy as np\n",
    "import matplotlib.pyplot as plt\n",
    "import pandas as pd\n",
    "import seaborn as sns\n",
    "import warnings\n",
    "from sklearn.ensemble import RandomForestClassifier\n",
    "from sklearn.ensemble import RandomForestRegressor\n",
    "%matplotlib inline"
   ]
  },
  {
   "cell_type": "markdown",
   "metadata": {},
   "source": [
    "# Load dataset"
   ]
  },
  {
   "cell_type": "code",
   "execution_count": 2,
   "metadata": {},
   "outputs": [],
   "source": [
    "# import dataset\n",
    "train = pd.read_csv('train.csv')\n",
    "test = pd.read_csv('test.csv')\n",
    "submit = pd.read_csv('gender_submission.csv')"
   ]
  },
  {
   "cell_type": "markdown",
   "metadata": {},
   "source": [
    "# Data Description\n",
    "Variable\tDefinition\tKey\n",
    "survival\tSurvival\t0 = No, 1 = Yes\n",
    "pclass\tTicket class\t1 = 1st, 2 = 2nd, 3 = 3rd\n",
    "sex\tSex\t\n",
    "Age\tAge in years\t\n",
    "sibsp\t# of siblings / spouses aboard the Titanic\t\n",
    "parch\t# of parents / children aboard the Titanic\t\n",
    "ticket\tTicket number\t\n",
    "fare\tPassenger fare\t\n",
    "cabin\tCabin number\t\n",
    "embarked\tPort of Embarkation\tC = Cherbourg, Q = Queenstown, S = Southampton"
   ]
  },
  {
   "cell_type": "markdown",
   "metadata": {},
   "source": [
    "# Find the missing values\n",
    "\n",
    "Age and Cabin are missing values in train and test set"
   ]
  },
  {
   "cell_type": "code",
   "execution_count": 3,
   "metadata": {},
   "outputs": [
    {
     "name": "stdout",
     "output_type": "stream",
     "text": [
      "<class 'pandas.core.frame.DataFrame'>\n",
      "RangeIndex: 891 entries, 0 to 890\n",
      "Data columns (total 12 columns):\n",
      "PassengerId    891 non-null int64\n",
      "Survived       891 non-null int64\n",
      "Pclass         891 non-null int64\n",
      "Name           891 non-null object\n",
      "Sex            891 non-null object\n",
      "Age            714 non-null float64\n",
      "SibSp          891 non-null int64\n",
      "Parch          891 non-null int64\n",
      "Ticket         891 non-null object\n",
      "Fare           891 non-null float64\n",
      "Cabin          204 non-null object\n",
      "Embarked       889 non-null object\n",
      "dtypes: float64(2), int64(5), object(5)\n",
      "memory usage: 83.6+ KB\n"
     ]
    }
   ],
   "source": [
    "train.info()"
   ]
  },
  {
   "cell_type": "code",
   "execution_count": 4,
   "metadata": {},
   "outputs": [
    {
     "data": {
      "text/plain": [
       "PassengerId    0.000000\n",
       "Survived       0.000000\n",
       "Pclass         0.000000\n",
       "Name           0.000000\n",
       "Sex            0.000000\n",
       "Age            0.198653\n",
       "SibSp          0.000000\n",
       "Parch          0.000000\n",
       "Ticket         0.000000\n",
       "Fare           0.000000\n",
       "Cabin          0.771044\n",
       "Embarked       0.002245\n",
       "dtype: float64"
      ]
     },
     "execution_count": 4,
     "metadata": {},
     "output_type": "execute_result"
    }
   ],
   "source": [
    "train.isnull().mean()"
   ]
  },
  {
   "cell_type": "code",
   "execution_count": 110,
   "metadata": {},
   "outputs": [
    {
     "name": "stdout",
     "output_type": "stream",
     "text": [
      "<class 'pandas.core.frame.DataFrame'>\n",
      "RangeIndex: 418 entries, 0 to 417\n",
      "Data columns (total 11 columns):\n",
      "PassengerId    418 non-null int64\n",
      "Pclass         418 non-null int64\n",
      "Name           418 non-null object\n",
      "Sex            418 non-null object\n",
      "Age            332 non-null float64\n",
      "SibSp          418 non-null int64\n",
      "Parch          418 non-null int64\n",
      "Ticket         418 non-null object\n",
      "Fare           417 non-null float64\n",
      "Cabin          91 non-null object\n",
      "Embarked       418 non-null object\n",
      "dtypes: float64(2), int64(4), object(5)\n",
      "memory usage: 36.0+ KB\n"
     ]
    }
   ],
   "source": [
    "test.info()"
   ]
  },
  {
   "cell_type": "code",
   "execution_count": 5,
   "metadata": {},
   "outputs": [
    {
     "data": {
      "text/plain": [
       "PassengerId    0.000000\n",
       "Pclass         0.000000\n",
       "Name           0.000000\n",
       "Sex            0.000000\n",
       "Age            0.205742\n",
       "SibSp          0.000000\n",
       "Parch          0.000000\n",
       "Ticket         0.000000\n",
       "Fare           0.002392\n",
       "Cabin          0.782297\n",
       "Embarked       0.000000\n",
       "dtype: float64"
      ]
     },
     "execution_count": 5,
     "metadata": {},
     "output_type": "execute_result"
    }
   ],
   "source": [
    "test.isnull().mean()"
   ]
  },
  {
   "cell_type": "markdown",
   "metadata": {},
   "source": [
    "# Statistics of dataset"
   ]
  },
  {
   "cell_type": "code",
   "execution_count": 111,
   "metadata": {
    "scrolled": true
   },
   "outputs": [
    {
     "data": {
      "text/html": [
       "<div>\n",
       "<style>\n",
       "    .dataframe thead tr:only-child th {\n",
       "        text-align: right;\n",
       "    }\n",
       "\n",
       "    .dataframe thead th {\n",
       "        text-align: left;\n",
       "    }\n",
       "\n",
       "    .dataframe tbody tr th {\n",
       "        vertical-align: top;\n",
       "    }\n",
       "</style>\n",
       "<table border=\"1\" class=\"dataframe\">\n",
       "  <thead>\n",
       "    <tr style=\"text-align: right;\">\n",
       "      <th></th>\n",
       "      <th>PassengerId</th>\n",
       "      <th>Survived</th>\n",
       "      <th>Pclass</th>\n",
       "      <th>Age</th>\n",
       "      <th>SibSp</th>\n",
       "      <th>Parch</th>\n",
       "      <th>Fare</th>\n",
       "    </tr>\n",
       "  </thead>\n",
       "  <tbody>\n",
       "    <tr>\n",
       "      <th>count</th>\n",
       "      <td>891.000000</td>\n",
       "      <td>891.000000</td>\n",
       "      <td>891.000000</td>\n",
       "      <td>714.000000</td>\n",
       "      <td>891.000000</td>\n",
       "      <td>891.000000</td>\n",
       "      <td>891.000000</td>\n",
       "    </tr>\n",
       "    <tr>\n",
       "      <th>mean</th>\n",
       "      <td>446.000000</td>\n",
       "      <td>0.383838</td>\n",
       "      <td>2.308642</td>\n",
       "      <td>29.699118</td>\n",
       "      <td>0.523008</td>\n",
       "      <td>0.381594</td>\n",
       "      <td>32.204208</td>\n",
       "    </tr>\n",
       "    <tr>\n",
       "      <th>std</th>\n",
       "      <td>257.353842</td>\n",
       "      <td>0.486592</td>\n",
       "      <td>0.836071</td>\n",
       "      <td>14.526497</td>\n",
       "      <td>1.102743</td>\n",
       "      <td>0.806057</td>\n",
       "      <td>49.693429</td>\n",
       "    </tr>\n",
       "    <tr>\n",
       "      <th>min</th>\n",
       "      <td>1.000000</td>\n",
       "      <td>0.000000</td>\n",
       "      <td>1.000000</td>\n",
       "      <td>0.420000</td>\n",
       "      <td>0.000000</td>\n",
       "      <td>0.000000</td>\n",
       "      <td>0.000000</td>\n",
       "    </tr>\n",
       "    <tr>\n",
       "      <th>25%</th>\n",
       "      <td>223.500000</td>\n",
       "      <td>0.000000</td>\n",
       "      <td>2.000000</td>\n",
       "      <td>20.125000</td>\n",
       "      <td>0.000000</td>\n",
       "      <td>0.000000</td>\n",
       "      <td>7.910400</td>\n",
       "    </tr>\n",
       "    <tr>\n",
       "      <th>50%</th>\n",
       "      <td>446.000000</td>\n",
       "      <td>0.000000</td>\n",
       "      <td>3.000000</td>\n",
       "      <td>28.000000</td>\n",
       "      <td>0.000000</td>\n",
       "      <td>0.000000</td>\n",
       "      <td>14.454200</td>\n",
       "    </tr>\n",
       "    <tr>\n",
       "      <th>75%</th>\n",
       "      <td>668.500000</td>\n",
       "      <td>1.000000</td>\n",
       "      <td>3.000000</td>\n",
       "      <td>38.000000</td>\n",
       "      <td>1.000000</td>\n",
       "      <td>0.000000</td>\n",
       "      <td>31.000000</td>\n",
       "    </tr>\n",
       "    <tr>\n",
       "      <th>max</th>\n",
       "      <td>891.000000</td>\n",
       "      <td>1.000000</td>\n",
       "      <td>3.000000</td>\n",
       "      <td>80.000000</td>\n",
       "      <td>8.000000</td>\n",
       "      <td>6.000000</td>\n",
       "      <td>512.329200</td>\n",
       "    </tr>\n",
       "  </tbody>\n",
       "</table>\n",
       "</div>"
      ],
      "text/plain": [
       "       PassengerId    Survived      Pclass         Age       SibSp  \\\n",
       "count   891.000000  891.000000  891.000000  714.000000  891.000000   \n",
       "mean    446.000000    0.383838    2.308642   29.699118    0.523008   \n",
       "std     257.353842    0.486592    0.836071   14.526497    1.102743   \n",
       "min       1.000000    0.000000    1.000000    0.420000    0.000000   \n",
       "25%     223.500000    0.000000    2.000000   20.125000    0.000000   \n",
       "50%     446.000000    0.000000    3.000000   28.000000    0.000000   \n",
       "75%     668.500000    1.000000    3.000000   38.000000    1.000000   \n",
       "max     891.000000    1.000000    3.000000   80.000000    8.000000   \n",
       "\n",
       "            Parch        Fare  \n",
       "count  891.000000  891.000000  \n",
       "mean     0.381594   32.204208  \n",
       "std      0.806057   49.693429  \n",
       "min      0.000000    0.000000  \n",
       "25%      0.000000    7.910400  \n",
       "50%      0.000000   14.454200  \n",
       "75%      0.000000   31.000000  \n",
       "max      6.000000  512.329200  "
      ]
     },
     "execution_count": 111,
     "metadata": {},
     "output_type": "execute_result"
    }
   ],
   "source": [
    "train.describe()"
   ]
  },
  {
   "cell_type": "code",
   "execution_count": 112,
   "metadata": {},
   "outputs": [
    {
     "data": {
      "text/html": [
       "<div>\n",
       "<style>\n",
       "    .dataframe thead tr:only-child th {\n",
       "        text-align: right;\n",
       "    }\n",
       "\n",
       "    .dataframe thead th {\n",
       "        text-align: left;\n",
       "    }\n",
       "\n",
       "    .dataframe tbody tr th {\n",
       "        vertical-align: top;\n",
       "    }\n",
       "</style>\n",
       "<table border=\"1\" class=\"dataframe\">\n",
       "  <thead>\n",
       "    <tr style=\"text-align: right;\">\n",
       "      <th></th>\n",
       "      <th>PassengerId</th>\n",
       "      <th>Pclass</th>\n",
       "      <th>Age</th>\n",
       "      <th>SibSp</th>\n",
       "      <th>Parch</th>\n",
       "      <th>Fare</th>\n",
       "    </tr>\n",
       "  </thead>\n",
       "  <tbody>\n",
       "    <tr>\n",
       "      <th>count</th>\n",
       "      <td>418.000000</td>\n",
       "      <td>418.000000</td>\n",
       "      <td>332.000000</td>\n",
       "      <td>418.000000</td>\n",
       "      <td>418.000000</td>\n",
       "      <td>417.000000</td>\n",
       "    </tr>\n",
       "    <tr>\n",
       "      <th>mean</th>\n",
       "      <td>1100.500000</td>\n",
       "      <td>2.265550</td>\n",
       "      <td>30.272590</td>\n",
       "      <td>0.447368</td>\n",
       "      <td>0.392344</td>\n",
       "      <td>35.627188</td>\n",
       "    </tr>\n",
       "    <tr>\n",
       "      <th>std</th>\n",
       "      <td>120.810458</td>\n",
       "      <td>0.841838</td>\n",
       "      <td>14.181209</td>\n",
       "      <td>0.896760</td>\n",
       "      <td>0.981429</td>\n",
       "      <td>55.907576</td>\n",
       "    </tr>\n",
       "    <tr>\n",
       "      <th>min</th>\n",
       "      <td>892.000000</td>\n",
       "      <td>1.000000</td>\n",
       "      <td>0.170000</td>\n",
       "      <td>0.000000</td>\n",
       "      <td>0.000000</td>\n",
       "      <td>0.000000</td>\n",
       "    </tr>\n",
       "    <tr>\n",
       "      <th>25%</th>\n",
       "      <td>996.250000</td>\n",
       "      <td>1.000000</td>\n",
       "      <td>21.000000</td>\n",
       "      <td>0.000000</td>\n",
       "      <td>0.000000</td>\n",
       "      <td>7.895800</td>\n",
       "    </tr>\n",
       "    <tr>\n",
       "      <th>50%</th>\n",
       "      <td>1100.500000</td>\n",
       "      <td>3.000000</td>\n",
       "      <td>27.000000</td>\n",
       "      <td>0.000000</td>\n",
       "      <td>0.000000</td>\n",
       "      <td>14.454200</td>\n",
       "    </tr>\n",
       "    <tr>\n",
       "      <th>75%</th>\n",
       "      <td>1204.750000</td>\n",
       "      <td>3.000000</td>\n",
       "      <td>39.000000</td>\n",
       "      <td>1.000000</td>\n",
       "      <td>0.000000</td>\n",
       "      <td>31.500000</td>\n",
       "    </tr>\n",
       "    <tr>\n",
       "      <th>max</th>\n",
       "      <td>1309.000000</td>\n",
       "      <td>3.000000</td>\n",
       "      <td>76.000000</td>\n",
       "      <td>8.000000</td>\n",
       "      <td>9.000000</td>\n",
       "      <td>512.329200</td>\n",
       "    </tr>\n",
       "  </tbody>\n",
       "</table>\n",
       "</div>"
      ],
      "text/plain": [
       "       PassengerId      Pclass         Age       SibSp       Parch        Fare\n",
       "count   418.000000  418.000000  332.000000  418.000000  418.000000  417.000000\n",
       "mean   1100.500000    2.265550   30.272590    0.447368    0.392344   35.627188\n",
       "std     120.810458    0.841838   14.181209    0.896760    0.981429   55.907576\n",
       "min     892.000000    1.000000    0.170000    0.000000    0.000000    0.000000\n",
       "25%     996.250000    1.000000   21.000000    0.000000    0.000000    7.895800\n",
       "50%    1100.500000    3.000000   27.000000    0.000000    0.000000   14.454200\n",
       "75%    1204.750000    3.000000   39.000000    1.000000    0.000000   31.500000\n",
       "max    1309.000000    3.000000   76.000000    8.000000    9.000000  512.329200"
      ]
     },
     "execution_count": 112,
     "metadata": {},
     "output_type": "execute_result"
    }
   ],
   "source": [
    "test.describe()"
   ]
  },
  {
   "cell_type": "markdown",
   "metadata": {
    "collapsed": true
   },
   "source": [
    "# Combining train and test set \n",
    "\n",
    "Before preprocessing, we conbine train and test set.This step will let us more convenience.\n",
    "Beacause we preprocess the missing values just once. \n",
    "\n",
    "After combining train and test set, we have to reset our index or index order will be mess."
   ]
  },
  {
   "cell_type": "code",
   "execution_count": 113,
   "metadata": {
    "collapsed": true
   },
   "outputs": [],
   "source": [
    "data = train.append(test)"
   ]
  },
  {
   "cell_type": "code",
   "execution_count": 114,
   "metadata": {
    "collapsed": true
   },
   "outputs": [],
   "source": [
    "data.reset_index(inplace=True, drop=True)"
   ]
  },
  {
   "cell_type": "markdown",
   "metadata": {},
   "source": [
    "# Starting Analysis data\n",
    "\n",
    "Using the seaborn to visualize data's relation between Survived.\n",
    "\n",
    "Pclass vs Survived\n",
    "\n",
    "Sex vs Survived\n",
    "\n",
    "Embarked vs Survived\n",
    "\n",
    "Age vs Survived\n",
    "\n",
    "Fare vs Survived\n",
    "\n",
    "parch vs Survived\n",
    "\n",
    "SibSp vs Survived\n",
    "\n",
    "Family_Size vs Survived"
   ]
  },
  {
   "cell_type": "code",
   "execution_count": 115,
   "metadata": {
    "scrolled": false
   },
   "outputs": [
    {
     "data": {
      "text/plain": [
       "<matplotlib.axes._subplots.AxesSubplot at 0x1bb278fd390>"
      ]
     },
     "execution_count": 115,
     "metadata": {},
     "output_type": "execute_result"
    },
    {
     "data": {
      "image/png": "[encoded data removed]",
      "text/plain": [
       "<matplotlib.figure.Figure at 0x1bb249e8be0>"
      ]
     },
     "metadata": {},
     "output_type": "display_data"
    }
   ],
   "source": [
    "sns.countplot(data['Survived'])"
   ]
  },
  {
   "cell_type": "code",
   "execution_count": 116,
   "metadata": {},
   "outputs": [
    {
     "data": {
      "text/plain": [
       "<matplotlib.axes._subplots.AxesSubplot at 0x1bb24b95198>"
      ]
     },
     "execution_count": 116,
     "metadata": {},
     "output_type": "execute_result"
    },
    {
     "data": {
      "image/png": "[encoded data removed]",
      "text/plain": [
       "<matplotlib.figure.Figure at 0x1bb2204b0f0>"
      ]
     },
     "metadata": {},
     "output_type": "display_data"
    }
   ],
   "source": [
    "# Pclass vs Survived\n",
    "sns.countplot(data['Pclass'], hue=data['Survived'])"
   ]
  },
  {
   "cell_type": "code",
   "execution_count": 117,
   "metadata": {},
   "outputs": [
    {
     "data": {
      "text/plain": [
       "<matplotlib.axes._subplots.AxesSubplot at 0x1bb2768beb8>"
      ]
     },
     "execution_count": 117,
     "metadata": {},
     "output_type": "execute_result"
    },
    {
     "data": {
      "image/png": "[encoded data removed]",
      "text/plain": [
       "<matplotlib.figure.Figure at 0x1bb24b2f278>"
      ]
     },
     "metadata": {},
     "output_type": "display_data"
    }
   ],
   "source": [
    "# Sex vs Survived\n",
    "sns.countplot(data['Sex'], hue=data['Survived'])"
   ]
  },
  {
   "cell_type": "code",
   "execution_count": 118,
   "metadata": {},
   "outputs": [
    {
     "data": {
      "text/plain": [
       "<matplotlib.axes._subplots.AxesSubplot at 0x1bb25382438>"
      ]
     },
     "execution_count": 118,
     "metadata": {},
     "output_type": "execute_result"
    },
    {
     "data": {
      "image/png": "[encoded data removed]",
      "text/plain": [
       "<matplotlib.figure.Figure at 0x1bb2433ac50>"
      ]
     },
     "metadata": {},
     "output_type": "display_data"
    }
   ],
   "source": [
    "# Embarked vs Survived\n",
    "sns.countplot(data['Embarked'], hue=data['Survived'])"
   ]
  },
  {
   "cell_type": "code",
   "execution_count": 119,
   "metadata": {},
   "outputs": [
    {
     "data": {
      "text/plain": [
       "<seaborn.axisgrid.FacetGrid at 0x1bb269f4240>"
      ]
     },
     "execution_count": 119,
     "metadata": {},
     "output_type": "execute_result"
    },
    {
     "data": {
      "image/png": "[encoded data removed]",
      "text/plain": [
       "<matplotlib.figure.Figure at 0x1bb269e4828>"
      ]
     },
     "metadata": {},
     "output_type": "display_data"
    }
   ],
   "source": [
    "# age vs survived\n",
    "g = sns.FacetGrid(data, col='Survived')\n",
    "g.map(sns.distplot, 'Age')"
   ]
  },
  {
   "cell_type": "code",
   "execution_count": 120,
   "metadata": {},
   "outputs": [
    {
     "data": {
      "text/plain": [
       "<seaborn.axisgrid.FacetGrid at 0x1bb27801eb8>"
      ]
     },
     "execution_count": 120,
     "metadata": {},
     "output_type": "execute_result"
    },
    {
     "data": {
      "image/png": "[encoded data removed]",
      "text/plain": [
       "<matplotlib.figure.Figure at 0x1bb278019e8>"
      ]
     },
     "metadata": {},
     "output_type": "display_data"
    }
   ],
   "source": [
    "# Fare vs survived\n",
    "g = sns.FacetGrid(data, col='Survived')\n",
    "g.map(sns.distplot, 'Fare')"
   ]
  },
  {
   "cell_type": "code",
   "execution_count": 121,
   "metadata": {},
   "outputs": [
    {
     "data": {
      "text/plain": [
       "<seaborn.axisgrid.FacetGrid at 0x1bb26600550>"
      ]
     },
     "execution_count": 121,
     "metadata": {},
     "output_type": "execute_result"
    },
    {
     "data": {
      "image/png": "[encoded data removed]",
      "text/plain": [
       "<matplotlib.figure.Figure at 0x1bb27be2e80>"
      ]
     },
     "metadata": {},
     "output_type": "display_data"
    }
   ],
   "source": [
    "#  parch(parents / children aboard the Titanic) vs survived\n",
    "g = sns.FacetGrid(data, col='Survived')\n",
    "g.map(sns.distplot, 'Parch')"
   ]
  },
  {
   "cell_type": "code",
   "execution_count": 122,
   "metadata": {},
   "outputs": [
    {
     "data": {
      "text/plain": [
       "<seaborn.axisgrid.FacetGrid at 0x1bb28e3feb8>"
      ]
     },
     "execution_count": 122,
     "metadata": {},
     "output_type": "execute_result"
    },
    {
     "data": {
      "image/png": "[encoded data removed]",
      "text/plain": [
       "<matplotlib.figure.Figure at 0x1bb28e3f7f0>"
      ]
     },
     "metadata": {},
     "output_type": "display_data"
    }
   ],
   "source": [
    "# SibSp(of siblings / spouses aboard) vs survived\n",
    "g = sns.FacetGrid(data, col='Survived')\n",
    "g.map(sns.distplot, 'SibSp')"
   ]
  },
  {
   "cell_type": "code",
   "execution_count": 123,
   "metadata": {
    "collapsed": true
   },
   "outputs": [],
   "source": [
    "# create new columns data 'Family_Size' which combine with 'Parch' and 'SibSp'\n",
    "data['Family_Size'] = data['Parch'] + data['SibSp']"
   ]
  },
  {
   "cell_type": "code",
   "execution_count": 124,
   "metadata": {},
   "outputs": [
    {
     "data": {
      "text/plain": [
       "<seaborn.axisgrid.FacetGrid at 0x1bb29011c50>"
      ]
     },
     "execution_count": 124,
     "metadata": {},
     "output_type": "execute_result"
    },
    {
     "data": {
      "image/png": "[encoded data removed]",
      "text/plain": [
       "<matplotlib.figure.Figure at 0x1bb28fdfe10>"
      ]
     },
     "metadata": {},
     "output_type": "display_data"
    }
   ],
   "source": [
    "# Family_Size vs survived\n",
    "g = sns.FacetGrid(data, col='Survived')\n",
    "g.map(sns.distplot, 'Family_Size')"
   ]
  },
  {
   "cell_type": "markdown",
   "metadata": {},
   "source": [
    "# Preprocess"
   ]
  },
  {
   "cell_type": "code",
   "execution_count": 125,
   "metadata": {},
   "outputs": [
    {
     "data": {
      "text/html": [
       "<div>\n",
       "<style>\n",
       "    .dataframe thead tr:only-child th {\n",
       "        text-align: right;\n",
       "    }\n",
       "\n",
       "    .dataframe thead th {\n",
       "        text-align: left;\n",
       "    }\n",
       "\n",
       "    .dataframe tbody tr th {\n",
       "        vertical-align: top;\n",
       "    }\n",
       "</style>\n",
       "<table border=\"1\" class=\"dataframe\">\n",
       "  <thead>\n",
       "    <tr style=\"text-align: right;\">\n",
       "      <th></th>\n",
       "      <th>0</th>\n",
       "      <th>1</th>\n",
       "    </tr>\n",
       "  </thead>\n",
       "  <tbody>\n",
       "    <tr>\n",
       "      <th>0</th>\n",
       "      <td>Braund</td>\n",
       "      <td>Mr. Owen Harris</td>\n",
       "    </tr>\n",
       "    <tr>\n",
       "      <th>1</th>\n",
       "      <td>Cumings</td>\n",
       "      <td>Mrs. John Bradley (Florence Briggs Thayer)</td>\n",
       "    </tr>\n",
       "    <tr>\n",
       "      <th>2</th>\n",
       "      <td>Heikkinen</td>\n",
       "      <td>Miss. Laina</td>\n",
       "    </tr>\n",
       "  </tbody>\n",
       "</table>\n",
       "</div>"
      ],
      "text/plain": [
       "           0                                           1\n",
       "0     Braund                             Mr. Owen Harris\n",
       "1    Cumings  Mrs. John Bradley (Florence Briggs Thayer)\n",
       "2  Heikkinen                                 Miss. Laina"
      ]
     },
     "execution_count": 125,
     "metadata": {},
     "output_type": "execute_result"
    }
   ],
   "source": [
    "# get the title(Ms..., Miss..., etc...)\n",
    "data['Title1'] = data['Name'].str.split(\", \", expand=True)[1]\n",
    "data['Name'].str.split(\", \", expand=True).head(3)"
   ]
  },
  {
   "cell_type": "code",
   "execution_count": 126,
   "metadata": {},
   "outputs": [
    {
     "data": {
      "text/plain": [
       "0                               Mr. Owen Harris\n",
       "1    Mrs. John Bradley (Florence Briggs Thayer)\n",
       "2                                   Miss. Laina\n",
       "Name: Title1, dtype: object"
      ]
     },
     "execution_count": 126,
     "metadata": {},
     "output_type": "execute_result"
    }
   ],
   "source": [
    "data['Title1'].head(3)"
   ]
  },
  {
   "cell_type": "code",
   "execution_count": 127,
   "metadata": {},
   "outputs": [
    {
     "data": {
      "text/plain": [
       "0      Mr\n",
       "1     Mrs\n",
       "2    Miss\n",
       "Name: Title1, dtype: object"
      ]
     },
     "execution_count": 127,
     "metadata": {},
     "output_type": "execute_result"
    }
   ],
   "source": [
    "data['Title1'] = data['Title1'].str.split(\".\", expand=True)[0]\n",
    "data['Title1'].head(3)"
   ]
  },
  {
   "cell_type": "code",
   "execution_count": 128,
   "metadata": {},
   "outputs": [
    {
     "data": {
      "text/plain": [
       "array(['Mr', 'Mrs', 'Miss', 'Master', 'Don', 'Rev', 'Dr', 'Mme', 'Ms',\n",
       "       'Major', 'Lady', 'Sir', 'Mlle', 'Col', 'Capt', 'the Countess',\n",
       "       'Jonkheer', 'Dona'], dtype=object)"
      ]
     },
     "execution_count": 128,
     "metadata": {},
     "output_type": "execute_result"
    }
   ],
   "source": [
    "data['Title1'].unique()"
   ]
  },
  {
   "cell_type": "code",
   "execution_count": 129,
   "metadata": {},
   "outputs": [
    {
     "data": {
      "text/html": [
       "<style  type=\"text/css\" >\n",
       "    #T_b28da37a_f115_11e7_827d_40e230cab69erow0_col0 {\n",
       "            background-color:  #ffff66;\n",
       "        }    #T_b28da37a_f115_11e7_827d_40e230cab69erow0_col1 {\n",
       "            background-color:  #ffff66;\n",
       "        }    #T_b28da37a_f115_11e7_827d_40e230cab69erow0_col2 {\n",
       "            background-color:  #ffff66;\n",
       "        }    #T_b28da37a_f115_11e7_827d_40e230cab69erow0_col3 {\n",
       "            background-color:  #008066;\n",
       "        }    #T_b28da37a_f115_11e7_827d_40e230cab69erow0_col4 {\n",
       "            background-color:  #ffff66;\n",
       "        }    #T_b28da37a_f115_11e7_827d_40e230cab69erow0_col5 {\n",
       "            background-color:  #ffff66;\n",
       "        }    #T_b28da37a_f115_11e7_827d_40e230cab69erow0_col6 {\n",
       "            background-color:  #008066;\n",
       "        }    #T_b28da37a_f115_11e7_827d_40e230cab69erow0_col7 {\n",
       "            background-color:  #ffff66;\n",
       "        }    #T_b28da37a_f115_11e7_827d_40e230cab69erow0_col8 {\n",
       "            background-color:  #ffff66;\n",
       "        }    #T_b28da37a_f115_11e7_827d_40e230cab69erow0_col9 {\n",
       "            background-color:  #008066;\n",
       "        }    #T_b28da37a_f115_11e7_827d_40e230cab69erow0_col10 {\n",
       "            background-color:  #008066;\n",
       "        }    #T_b28da37a_f115_11e7_827d_40e230cab69erow0_col11 {\n",
       "            background-color:  #008066;\n",
       "        }    #T_b28da37a_f115_11e7_827d_40e230cab69erow0_col12 {\n",
       "            background-color:  #ffff66;\n",
       "        }    #T_b28da37a_f115_11e7_827d_40e230cab69erow0_col13 {\n",
       "            background-color:  #008066;\n",
       "        }    #T_b28da37a_f115_11e7_827d_40e230cab69erow0_col14 {\n",
       "            background-color:  #008066;\n",
       "        }    #T_b28da37a_f115_11e7_827d_40e230cab69erow0_col15 {\n",
       "            background-color:  #ffff66;\n",
       "        }    #T_b28da37a_f115_11e7_827d_40e230cab69erow0_col16 {\n",
       "            background-color:  #ffff66;\n",
       "        }    #T_b28da37a_f115_11e7_827d_40e230cab69erow0_col17 {\n",
       "            background-color:  #008066;\n",
       "        }    #T_b28da37a_f115_11e7_827d_40e230cab69erow1_col0 {\n",
       "            background-color:  #008066;\n",
       "        }    #T_b28da37a_f115_11e7_827d_40e230cab69erow1_col1 {\n",
       "            background-color:  #008066;\n",
       "        }    #T_b28da37a_f115_11e7_827d_40e230cab69erow1_col2 {\n",
       "            background-color:  #008066;\n",
       "        }    #T_b28da37a_f115_11e7_827d_40e230cab69erow1_col3 {\n",
       "            background-color:  #ffff66;\n",
       "        }    #T_b28da37a_f115_11e7_827d_40e230cab69erow1_col4 {\n",
       "            background-color:  #008066;\n",
       "        }    #T_b28da37a_f115_11e7_827d_40e230cab69erow1_col5 {\n",
       "            background-color:  #008066;\n",
       "        }    #T_b28da37a_f115_11e7_827d_40e230cab69erow1_col6 {\n",
       "            background-color:  #ffff66;\n",
       "        }    #T_b28da37a_f115_11e7_827d_40e230cab69erow1_col7 {\n",
       "            background-color:  #008066;\n",
       "        }    #T_b28da37a_f115_11e7_827d_40e230cab69erow1_col8 {\n",
       "            background-color:  #008066;\n",
       "        }    #T_b28da37a_f115_11e7_827d_40e230cab69erow1_col9 {\n",
       "            background-color:  #ffff66;\n",
       "        }    #T_b28da37a_f115_11e7_827d_40e230cab69erow1_col10 {\n",
       "            background-color:  #ffff66;\n",
       "        }    #T_b28da37a_f115_11e7_827d_40e230cab69erow1_col11 {\n",
       "            background-color:  #ffff66;\n",
       "        }    #T_b28da37a_f115_11e7_827d_40e230cab69erow1_col12 {\n",
       "            background-color:  #008066;\n",
       "        }    #T_b28da37a_f115_11e7_827d_40e230cab69erow1_col13 {\n",
       "            background-color:  #ffff66;\n",
       "        }    #T_b28da37a_f115_11e7_827d_40e230cab69erow1_col14 {\n",
       "            background-color:  #ffff66;\n",
       "        }    #T_b28da37a_f115_11e7_827d_40e230cab69erow1_col15 {\n",
       "            background-color:  #008066;\n",
       "        }    #T_b28da37a_f115_11e7_827d_40e230cab69erow1_col16 {\n",
       "            background-color:  #008066;\n",
       "        }    #T_b28da37a_f115_11e7_827d_40e230cab69erow1_col17 {\n",
       "            background-color:  #ffff66;\n",
       "        }</style>  \n",
       "<table id=\"T_b28da37a_f115_11e7_827d_40e230cab69e\" > \n",
       "<thead>    <tr> \n",
       "        <th class=\"index_name level0\" >Title1</th> \n",
       "        <th class=\"col_heading level0 col0\" >Capt</th> \n",
       "        <th class=\"col_heading level0 col1\" >Col</th> \n",
       "        <th class=\"col_heading level0 col2\" >Don</th> \n",
       "        <th class=\"col_heading level0 col3\" >Dona</th> \n",
       "        <th class=\"col_heading level0 col4\" >Dr</th> \n",
       "        <th class=\"col_heading level0 col5\" >Jonkheer</th> \n",
       "        <th class=\"col_heading level0 col6\" >Lady</th> \n",
       "        <th class=\"col_heading level0 col7\" >Major</th> \n",
       "        <th class=\"col_heading level0 col8\" >Master</th> \n",
       "        <th class=\"col_heading level0 col9\" >Miss</th> \n",
       "        <th class=\"col_heading level0 col10\" >Mlle</th> \n",
       "        <th class=\"col_heading level0 col11\" >Mme</th> \n",
       "        <th class=\"col_heading level0 col12\" >Mr</th> \n",
       "        <th class=\"col_heading level0 col13\" >Mrs</th> \n",
       "        <th class=\"col_heading level0 col14\" >Ms</th> \n",
       "        <th class=\"col_heading level0 col15\" >Rev</th> \n",
       "        <th class=\"col_heading level0 col16\" >Sir</th> \n",
       "        <th class=\"col_heading level0 col17\" >the Countess</th> \n",
       "    </tr>    <tr> \n",
       "        <th class=\"index_name level0\" >Sex</th> \n",
       "        <th class=\"blank\" ></th> \n",
       "        <th class=\"blank\" ></th> \n",
       "        <th class=\"blank\" ></th> \n",
       "        <th class=\"blank\" ></th> \n",
       "        <th class=\"blank\" ></th> \n",
       "        <th class=\"blank\" ></th> \n",
       "        <th class=\"blank\" ></th> \n",
       "        <th class=\"blank\" ></th> \n",
       "        <th class=\"blank\" ></th> \n",
       "        <th class=\"blank\" ></th> \n",
       "        <th class=\"blank\" ></th> \n",
       "        <th class=\"blank\" ></th> \n",
       "        <th class=\"blank\" ></th> \n",
       "        <th class=\"blank\" ></th> \n",
       "        <th class=\"blank\" ></th> \n",
       "        <th class=\"blank\" ></th> \n",
       "        <th class=\"blank\" ></th> \n",
       "        <th class=\"blank\" ></th> \n",
       "    </tr></thead> \n",
       "<tbody>    <tr> \n",
       "        <th id=\"T_b28da37a_f115_11e7_827d_40e230cab69elevel0_row0\" class=\"row_heading level0 row0\" >female</th> \n",
       "        <td id=\"T_b28da37a_f115_11e7_827d_40e230cab69erow0_col0\" class=\"data row0 col0\" >0</td> \n",
       "        <td id=\"T_b28da37a_f115_11e7_827d_40e230cab69erow0_col1\" class=\"data row0 col1\" >0</td> \n",
       "        <td id=\"T_b28da37a_f115_11e7_827d_40e230cab69erow0_col2\" class=\"data row0 col2\" >0</td> \n",
       "        <td id=\"T_b28da37a_f115_11e7_827d_40e230cab69erow0_col3\" class=\"data row0 col3\" >1</td> \n",
       "        <td id=\"T_b28da37a_f115_11e7_827d_40e230cab69erow0_col4\" class=\"data row0 col4\" >1</td> \n",
       "        <td id=\"T_b28da37a_f115_11e7_827d_40e230cab69erow0_col5\" class=\"data row0 col5\" >0</td> \n",
       "        <td id=\"T_b28da37a_f115_11e7_827d_40e230cab69erow0_col6\" class=\"data row0 col6\" >1</td> \n",
       "        <td id=\"T_b28da37a_f115_11e7_827d_40e230cab69erow0_col7\" class=\"data row0 col7\" >0</td> \n",
       "        <td id=\"T_b28da37a_f115_11e7_827d_40e230cab69erow0_col8\" class=\"data row0 col8\" >0</td> \n",
       "        <td id=\"T_b28da37a_f115_11e7_827d_40e230cab69erow0_col9\" class=\"data row0 col9\" >260</td> \n",
       "        <td id=\"T_b28da37a_f115_11e7_827d_40e230cab69erow0_col10\" class=\"data row0 col10\" >2</td> \n",
       "        <td id=\"T_b28da37a_f115_11e7_827d_40e230cab69erow0_col11\" class=\"data row0 col11\" >1</td> \n",
       "        <td id=\"T_b28da37a_f115_11e7_827d_40e230cab69erow0_col12\" class=\"data row0 col12\" >0</td> \n",
       "        <td id=\"T_b28da37a_f115_11e7_827d_40e230cab69erow0_col13\" class=\"data row0 col13\" >197</td> \n",
       "        <td id=\"T_b28da37a_f115_11e7_827d_40e230cab69erow0_col14\" class=\"data row0 col14\" >2</td> \n",
       "        <td id=\"T_b28da37a_f115_11e7_827d_40e230cab69erow0_col15\" class=\"data row0 col15\" >0</td> \n",
       "        <td id=\"T_b28da37a_f115_11e7_827d_40e230cab69erow0_col16\" class=\"data row0 col16\" >0</td> \n",
       "        <td id=\"T_b28da37a_f115_11e7_827d_40e230cab69erow0_col17\" class=\"data row0 col17\" >1</td> \n",
       "    </tr>    <tr> \n",
       "        <th id=\"T_b28da37a_f115_11e7_827d_40e230cab69elevel0_row1\" class=\"row_heading level0 row1\" >male</th> \n",
       "        <td id=\"T_b28da37a_f115_11e7_827d_40e230cab69erow1_col0\" class=\"data row1 col0\" >1</td> \n",
       "        <td id=\"T_b28da37a_f115_11e7_827d_40e230cab69erow1_col1\" class=\"data row1 col1\" >4</td> \n",
       "        <td id=\"T_b28da37a_f115_11e7_827d_40e230cab69erow1_col2\" class=\"data row1 col2\" >1</td> \n",
       "        <td id=\"T_b28da37a_f115_11e7_827d_40e230cab69erow1_col3\" class=\"data row1 col3\" >0</td> \n",
       "        <td id=\"T_b28da37a_f115_11e7_827d_40e230cab69erow1_col4\" class=\"data row1 col4\" >7</td> \n",
       "        <td id=\"T_b28da37a_f115_11e7_827d_40e230cab69erow1_col5\" class=\"data row1 col5\" >1</td> \n",
       "        <td id=\"T_b28da37a_f115_11e7_827d_40e230cab69erow1_col6\" class=\"data row1 col6\" >0</td> \n",
       "        <td id=\"T_b28da37a_f115_11e7_827d_40e230cab69erow1_col7\" class=\"data row1 col7\" >2</td> \n",
       "        <td id=\"T_b28da37a_f115_11e7_827d_40e230cab69erow1_col8\" class=\"data row1 col8\" >61</td> \n",
       "        <td id=\"T_b28da37a_f115_11e7_827d_40e230cab69erow1_col9\" class=\"data row1 col9\" >0</td> \n",
       "        <td id=\"T_b28da37a_f115_11e7_827d_40e230cab69erow1_col10\" class=\"data row1 col10\" >0</td> \n",
       "        <td id=\"T_b28da37a_f115_11e7_827d_40e230cab69erow1_col11\" class=\"data row1 col11\" >0</td> \n",
       "        <td id=\"T_b28da37a_f115_11e7_827d_40e230cab69erow1_col12\" class=\"data row1 col12\" >757</td> \n",
       "        <td id=\"T_b28da37a_f115_11e7_827d_40e230cab69erow1_col13\" class=\"data row1 col13\" >0</td> \n",
       "        <td id=\"T_b28da37a_f115_11e7_827d_40e230cab69erow1_col14\" class=\"data row1 col14\" >0</td> \n",
       "        <td id=\"T_b28da37a_f115_11e7_827d_40e230cab69erow1_col15\" class=\"data row1 col15\" >8</td> \n",
       "        <td id=\"T_b28da37a_f115_11e7_827d_40e230cab69erow1_col16\" class=\"data row1 col16\" >1</td> \n",
       "        <td id=\"T_b28da37a_f115_11e7_827d_40e230cab69erow1_col17\" class=\"data row1 col17\" >0</td> \n",
       "    </tr></tbody> \n",
       "</table> "
      ],
      "text/plain": [
       "<pandas.io.formats.style.Styler at 0x1bb28f2bf60>"
      ]
     },
     "execution_count": 129,
     "metadata": {},
     "output_type": "execute_result"
    }
   ],
   "source": [
    "pd.crosstab(data['Title1'], data['Sex']).T.style.background_gradient(cmap='summer_r')"
   ]
  },
  {
   "cell_type": "code",
   "execution_count": 130,
   "metadata": {},
   "outputs": [
    {
     "data": {
      "text/html": [
       "<style  type=\"text/css\" >\n",
       "    #T_b2bb5758_f115_11e7_aa50_40e230cab69erow0_col0 {\n",
       "            background-color:  #008066;\n",
       "        }    #T_b2bb5758_f115_11e7_aa50_40e230cab69erow0_col1 {\n",
       "            background-color:  #ffff66;\n",
       "        }    #T_b2bb5758_f115_11e7_aa50_40e230cab69erow0_col2 {\n",
       "            background-color:  #008066;\n",
       "        }    #T_b2bb5758_f115_11e7_aa50_40e230cab69erow0_col3 {\n",
       "            background-color:  #008066;\n",
       "        }    #T_b2bb5758_f115_11e7_aa50_40e230cab69erow0_col4 {\n",
       "            background-color:  #008066;\n",
       "        }    #T_b2bb5758_f115_11e7_aa50_40e230cab69erow0_col5 {\n",
       "            background-color:  #ffff66;\n",
       "        }    #T_b2bb5758_f115_11e7_aa50_40e230cab69erow0_col6 {\n",
       "            background-color:  #ffff66;\n",
       "        }    #T_b2bb5758_f115_11e7_aa50_40e230cab69erow0_col7 {\n",
       "            background-color:  #ffff66;\n",
       "        }    #T_b2bb5758_f115_11e7_aa50_40e230cab69erow0_col8 {\n",
       "            background-color:  #ffff66;\n",
       "        }    #T_b2bb5758_f115_11e7_aa50_40e230cab69erow0_col9 {\n",
       "            background-color:  #ffff66;\n",
       "        }    #T_b2bb5758_f115_11e7_aa50_40e230cab69erow0_col10 {\n",
       "            background-color:  #ffff66;\n",
       "        }    #T_b2bb5758_f115_11e7_aa50_40e230cab69erow0_col11 {\n",
       "            background-color:  #008066;\n",
       "        }    #T_b2bb5758_f115_11e7_aa50_40e230cab69erow0_col12 {\n",
       "            background-color:  #ffff66;\n",
       "        }    #T_b2bb5758_f115_11e7_aa50_40e230cab69erow0_col13 {\n",
       "            background-color:  #ffff66;\n",
       "        }    #T_b2bb5758_f115_11e7_aa50_40e230cab69erow0_col14 {\n",
       "            background-color:  #008066;\n",
       "        }    #T_b2bb5758_f115_11e7_aa50_40e230cab69erow0_col15 {\n",
       "            background-color:  #ffff66;\n",
       "        }    #T_b2bb5758_f115_11e7_aa50_40e230cab69erow0_col16 {\n",
       "            background-color:  #ffff66;\n",
       "        }    #T_b2bb5758_f115_11e7_aa50_40e230cab69erow1_col0 {\n",
       "            background-color:  #ffff66;\n",
       "        }    #T_b2bb5758_f115_11e7_aa50_40e230cab69erow1_col1 {\n",
       "            background-color:  #ffff66;\n",
       "        }    #T_b2bb5758_f115_11e7_aa50_40e230cab69erow1_col2 {\n",
       "            background-color:  #ffff66;\n",
       "        }    #T_b2bb5758_f115_11e7_aa50_40e230cab69erow1_col3 {\n",
       "            background-color:  #ffff66;\n",
       "        }    #T_b2bb5758_f115_11e7_aa50_40e230cab69erow1_col4 {\n",
       "            background-color:  #ffff66;\n",
       "        }    #T_b2bb5758_f115_11e7_aa50_40e230cab69erow1_col5 {\n",
       "            background-color:  #008066;\n",
       "        }    #T_b2bb5758_f115_11e7_aa50_40e230cab69erow1_col6 {\n",
       "            background-color:  #ffff66;\n",
       "        }    #T_b2bb5758_f115_11e7_aa50_40e230cab69erow1_col7 {\n",
       "            background-color:  #008066;\n",
       "        }    #T_b2bb5758_f115_11e7_aa50_40e230cab69erow1_col8 {\n",
       "            background-color:  #008066;\n",
       "        }    #T_b2bb5758_f115_11e7_aa50_40e230cab69erow1_col9 {\n",
       "            background-color:  #008066;\n",
       "        }    #T_b2bb5758_f115_11e7_aa50_40e230cab69erow1_col10 {\n",
       "            background-color:  #008066;\n",
       "        }    #T_b2bb5758_f115_11e7_aa50_40e230cab69erow1_col11 {\n",
       "            background-color:  #ffff66;\n",
       "        }    #T_b2bb5758_f115_11e7_aa50_40e230cab69erow1_col12 {\n",
       "            background-color:  #008066;\n",
       "        }    #T_b2bb5758_f115_11e7_aa50_40e230cab69erow1_col13 {\n",
       "            background-color:  #008066;\n",
       "        }    #T_b2bb5758_f115_11e7_aa50_40e230cab69erow1_col14 {\n",
       "            background-color:  #ffff66;\n",
       "        }    #T_b2bb5758_f115_11e7_aa50_40e230cab69erow1_col15 {\n",
       "            background-color:  #008066;\n",
       "        }    #T_b2bb5758_f115_11e7_aa50_40e230cab69erow1_col16 {\n",
       "            background-color:  #008066;\n",
       "        }</style>  \n",
       "<table id=\"T_b2bb5758_f115_11e7_aa50_40e230cab69e\" > \n",
       "<thead>    <tr> \n",
       "        <th class=\"index_name level0\" >Title1</th> \n",
       "        <th class=\"col_heading level0 col0\" >Capt</th> \n",
       "        <th class=\"col_heading level0 col1\" >Col</th> \n",
       "        <th class=\"col_heading level0 col2\" >Don</th> \n",
       "        <th class=\"col_heading level0 col3\" >Dr</th> \n",
       "        <th class=\"col_heading level0 col4\" >Jonkheer</th> \n",
       "        <th class=\"col_heading level0 col5\" >Lady</th> \n",
       "        <th class=\"col_heading level0 col6\" >Major</th> \n",
       "        <th class=\"col_heading level0 col7\" >Master</th> \n",
       "        <th class=\"col_heading level0 col8\" >Miss</th> \n",
       "        <th class=\"col_heading level0 col9\" >Mlle</th> \n",
       "        <th class=\"col_heading level0 col10\" >Mme</th> \n",
       "        <th class=\"col_heading level0 col11\" >Mr</th> \n",
       "        <th class=\"col_heading level0 col12\" >Mrs</th> \n",
       "        <th class=\"col_heading level0 col13\" >Ms</th> \n",
       "        <th class=\"col_heading level0 col14\" >Rev</th> \n",
       "        <th class=\"col_heading level0 col15\" >Sir</th> \n",
       "        <th class=\"col_heading level0 col16\" >the Countess</th> \n",
       "    </tr>    <tr> \n",
       "        <th class=\"index_name level0\" >Survived</th> \n",
       "        <th class=\"blank\" ></th> \n",
       "        <th class=\"blank\" ></th> \n",
       "        <th class=\"blank\" ></th> \n",
       "        <th class=\"blank\" ></th> \n",
       "        <th class=\"blank\" ></th> \n",
       "        <th class=\"blank\" ></th> \n",
       "        <th class=\"blank\" ></th> \n",
       "        <th class=\"blank\" ></th> \n",
       "        <th class=\"blank\" ></th> \n",
       "        <th class=\"blank\" ></th> \n",
       "        <th class=\"blank\" ></th> \n",
       "        <th class=\"blank\" ></th> \n",
       "        <th class=\"blank\" ></th> \n",
       "        <th class=\"blank\" ></th> \n",
       "        <th class=\"blank\" ></th> \n",
       "        <th class=\"blank\" ></th> \n",
       "        <th class=\"blank\" ></th> \n",
       "    </tr></thead> \n",
       "<tbody>    <tr> \n",
       "        <th id=\"T_b2bb5758_f115_11e7_aa50_40e230cab69elevel0_row0\" class=\"row_heading level0 row0\" >0.0</th> \n",
       "        <td id=\"T_b2bb5758_f115_11e7_aa50_40e230cab69erow0_col0\" class=\"data row0 col0\" >1</td> \n",
       "        <td id=\"T_b2bb5758_f115_11e7_aa50_40e230cab69erow0_col1\" class=\"data row0 col1\" >1</td> \n",
       "        <td id=\"T_b2bb5758_f115_11e7_aa50_40e230cab69erow0_col2\" class=\"data row0 col2\" >1</td> \n",
       "        <td id=\"T_b2bb5758_f115_11e7_aa50_40e230cab69erow0_col3\" class=\"data row0 col3\" >4</td> \n",
       "        <td id=\"T_b2bb5758_f115_11e7_aa50_40e230cab69erow0_col4\" class=\"data row0 col4\" >1</td> \n",
       "        <td id=\"T_b2bb5758_f115_11e7_aa50_40e230cab69erow0_col5\" class=\"data row0 col5\" >0</td> \n",
       "        <td id=\"T_b2bb5758_f115_11e7_aa50_40e230cab69erow0_col6\" class=\"data row0 col6\" >1</td> \n",
       "        <td id=\"T_b2bb5758_f115_11e7_aa50_40e230cab69erow0_col7\" class=\"data row0 col7\" >17</td> \n",
       "        <td id=\"T_b2bb5758_f115_11e7_aa50_40e230cab69erow0_col8\" class=\"data row0 col8\" >55</td> \n",
       "        <td id=\"T_b2bb5758_f115_11e7_aa50_40e230cab69erow0_col9\" class=\"data row0 col9\" >0</td> \n",
       "        <td id=\"T_b2bb5758_f115_11e7_aa50_40e230cab69erow0_col10\" class=\"data row0 col10\" >0</td> \n",
       "        <td id=\"T_b2bb5758_f115_11e7_aa50_40e230cab69erow0_col11\" class=\"data row0 col11\" >436</td> \n",
       "        <td id=\"T_b2bb5758_f115_11e7_aa50_40e230cab69erow0_col12\" class=\"data row0 col12\" >26</td> \n",
       "        <td id=\"T_b2bb5758_f115_11e7_aa50_40e230cab69erow0_col13\" class=\"data row0 col13\" >0</td> \n",
       "        <td id=\"T_b2bb5758_f115_11e7_aa50_40e230cab69erow0_col14\" class=\"data row0 col14\" >6</td> \n",
       "        <td id=\"T_b2bb5758_f115_11e7_aa50_40e230cab69erow0_col15\" class=\"data row0 col15\" >0</td> \n",
       "        <td id=\"T_b2bb5758_f115_11e7_aa50_40e230cab69erow0_col16\" class=\"data row0 col16\" >0</td> \n",
       "    </tr>    <tr> \n",
       "        <th id=\"T_b2bb5758_f115_11e7_aa50_40e230cab69elevel0_row1\" class=\"row_heading level0 row1\" >1.0</th> \n",
       "        <td id=\"T_b2bb5758_f115_11e7_aa50_40e230cab69erow1_col0\" class=\"data row1 col0\" >0</td> \n",
       "        <td id=\"T_b2bb5758_f115_11e7_aa50_40e230cab69erow1_col1\" class=\"data row1 col1\" >1</td> \n",
       "        <td id=\"T_b2bb5758_f115_11e7_aa50_40e230cab69erow1_col2\" class=\"data row1 col2\" >0</td> \n",
       "        <td id=\"T_b2bb5758_f115_11e7_aa50_40e230cab69erow1_col3\" class=\"data row1 col3\" >3</td> \n",
       "        <td id=\"T_b2bb5758_f115_11e7_aa50_40e230cab69erow1_col4\" class=\"data row1 col4\" >0</td> \n",
       "        <td id=\"T_b2bb5758_f115_11e7_aa50_40e230cab69erow1_col5\" class=\"data row1 col5\" >1</td> \n",
       "        <td id=\"T_b2bb5758_f115_11e7_aa50_40e230cab69erow1_col6\" class=\"data row1 col6\" >1</td> \n",
       "        <td id=\"T_b2bb5758_f115_11e7_aa50_40e230cab69erow1_col7\" class=\"data row1 col7\" >23</td> \n",
       "        <td id=\"T_b2bb5758_f115_11e7_aa50_40e230cab69erow1_col8\" class=\"data row1 col8\" >127</td> \n",
       "        <td id=\"T_b2bb5758_f115_11e7_aa50_40e230cab69erow1_col9\" class=\"data row1 col9\" >2</td> \n",
       "        <td id=\"T_b2bb5758_f115_11e7_aa50_40e230cab69erow1_col10\" class=\"data row1 col10\" >1</td> \n",
       "        <td id=\"T_b2bb5758_f115_11e7_aa50_40e230cab69erow1_col11\" class=\"data row1 col11\" >81</td> \n",
       "        <td id=\"T_b2bb5758_f115_11e7_aa50_40e230cab69erow1_col12\" class=\"data row1 col12\" >99</td> \n",
       "        <td id=\"T_b2bb5758_f115_11e7_aa50_40e230cab69erow1_col13\" class=\"data row1 col13\" >1</td> \n",
       "        <td id=\"T_b2bb5758_f115_11e7_aa50_40e230cab69erow1_col14\" class=\"data row1 col14\" >0</td> \n",
       "        <td id=\"T_b2bb5758_f115_11e7_aa50_40e230cab69erow1_col15\" class=\"data row1 col15\" >1</td> \n",
       "        <td id=\"T_b2bb5758_f115_11e7_aa50_40e230cab69erow1_col16\" class=\"data row1 col16\" >1</td> \n",
       "    </tr></tbody> \n",
       "</table> "
      ],
      "text/plain": [
       "<pandas.io.formats.style.Styler at 0x1bb292ad898>"
      ]
     },
     "execution_count": 130,
     "metadata": {},
     "output_type": "execute_result"
    }
   ],
   "source": [
    "pd.crosstab(data['Title1'], data['Survived']).T.style.background_gradient(cmap='summer_r')"
   ]
  },
  {
   "cell_type": "code",
   "execution_count": 131,
   "metadata": {},
   "outputs": [
    {
     "data": {
      "text/plain": [
       "Title1\n",
       "Capt            70.000000\n",
       "Col             54.000000\n",
       "Don             40.000000\n",
       "Dona            39.000000\n",
       "Dr              43.571429\n",
       "Jonkheer        38.000000\n",
       "Lady            48.000000\n",
       "Major           48.500000\n",
       "Master           5.482642\n",
       "Miss            21.774238\n",
       "Mlle            24.000000\n",
       "Mme             24.000000\n",
       "Mr              32.252151\n",
       "Mrs             36.994118\n",
       "Ms              28.000000\n",
       "Rev             41.250000\n",
       "Sir             49.000000\n",
       "the Countess    33.000000\n",
       "Name: Age, dtype: float64"
      ]
     },
     "execution_count": 131,
     "metadata": {},
     "output_type": "execute_result"
    }
   ],
   "source": [
    "data.groupby(['Title1'])['Age'].mean()"
   ]
  },
  {
   "cell_type": "code",
   "execution_count": 132,
   "metadata": {
    "collapsed": true
   },
   "outputs": [],
   "source": [
    "# replace few title to common\n",
    "data['Title2'] = data['Title1'].replace(['Mlle','Mme','Ms','Dr','Major','Lady','the Countess','Jonkheer','Col','Rev','Capt','Sir','Don','Dona'],\n",
    "         ['Miss','Mrs','Miss','Mr','Mr','Mrs','Mrs','Mr','Mr','Mr','Mr','Mr','Mr','Mrs'])"
   ]
  },
  {
   "cell_type": "code",
   "execution_count": 133,
   "metadata": {},
   "outputs": [
    {
     "data": {
      "text/plain": [
       "array(['Mr', 'Mrs', 'Miss', 'Master'], dtype=object)"
      ]
     },
     "execution_count": 133,
     "metadata": {},
     "output_type": "execute_result"
    }
   ],
   "source": [
    "data['Title2'].unique()"
   ]
  },
  {
   "cell_type": "code",
   "execution_count": 134,
   "metadata": {},
   "outputs": [
    {
     "data": {
      "text/html": [
       "<style  type=\"text/css\" >\n",
       "    #T_b34cab00_f115_11e7_801d_40e230cab69erow0_col0 {\n",
       "            background-color:  #ffff66;\n",
       "        }    #T_b34cab00_f115_11e7_801d_40e230cab69erow0_col1 {\n",
       "            background-color:  #008066;\n",
       "        }    #T_b34cab00_f115_11e7_801d_40e230cab69erow0_col2 {\n",
       "            background-color:  #ffff66;\n",
       "        }    #T_b34cab00_f115_11e7_801d_40e230cab69erow0_col3 {\n",
       "            background-color:  #008066;\n",
       "        }    #T_b34cab00_f115_11e7_801d_40e230cab69erow1_col0 {\n",
       "            background-color:  #008066;\n",
       "        }    #T_b34cab00_f115_11e7_801d_40e230cab69erow1_col1 {\n",
       "            background-color:  #ffff66;\n",
       "        }    #T_b34cab00_f115_11e7_801d_40e230cab69erow1_col2 {\n",
       "            background-color:  #008066;\n",
       "        }    #T_b34cab00_f115_11e7_801d_40e230cab69erow1_col3 {\n",
       "            background-color:  #ffff66;\n",
       "        }</style>  \n",
       "<table id=\"T_b34cab00_f115_11e7_801d_40e230cab69e\" > \n",
       "<thead>    <tr> \n",
       "        <th class=\"index_name level0\" >Title2</th> \n",
       "        <th class=\"col_heading level0 col0\" >Master</th> \n",
       "        <th class=\"col_heading level0 col1\" >Miss</th> \n",
       "        <th class=\"col_heading level0 col2\" >Mr</th> \n",
       "        <th class=\"col_heading level0 col3\" >Mrs</th> \n",
       "    </tr>    <tr> \n",
       "        <th class=\"index_name level0\" >Sex</th> \n",
       "        <th class=\"blank\" ></th> \n",
       "        <th class=\"blank\" ></th> \n",
       "        <th class=\"blank\" ></th> \n",
       "        <th class=\"blank\" ></th> \n",
       "    </tr></thead> \n",
       "<tbody>    <tr> \n",
       "        <th id=\"T_b34cab00_f115_11e7_801d_40e230cab69elevel0_row0\" class=\"row_heading level0 row0\" >female</th> \n",
       "        <td id=\"T_b34cab00_f115_11e7_801d_40e230cab69erow0_col0\" class=\"data row0 col0\" >0</td> \n",
       "        <td id=\"T_b34cab00_f115_11e7_801d_40e230cab69erow0_col1\" class=\"data row0 col1\" >264</td> \n",
       "        <td id=\"T_b34cab00_f115_11e7_801d_40e230cab69erow0_col2\" class=\"data row0 col2\" >1</td> \n",
       "        <td id=\"T_b34cab00_f115_11e7_801d_40e230cab69erow0_col3\" class=\"data row0 col3\" >201</td> \n",
       "    </tr>    <tr> \n",
       "        <th id=\"T_b34cab00_f115_11e7_801d_40e230cab69elevel0_row1\" class=\"row_heading level0 row1\" >male</th> \n",
       "        <td id=\"T_b34cab00_f115_11e7_801d_40e230cab69erow1_col0\" class=\"data row1 col0\" >61</td> \n",
       "        <td id=\"T_b34cab00_f115_11e7_801d_40e230cab69erow1_col1\" class=\"data row1 col1\" >0</td> \n",
       "        <td id=\"T_b34cab00_f115_11e7_801d_40e230cab69erow1_col2\" class=\"data row1 col2\" >782</td> \n",
       "        <td id=\"T_b34cab00_f115_11e7_801d_40e230cab69erow1_col3\" class=\"data row1 col3\" >0</td> \n",
       "    </tr></tbody> \n",
       "</table> "
      ],
      "text/plain": [
       "<pandas.io.formats.style.Styler at 0x1bb291059e8>"
      ]
     },
     "execution_count": 134,
     "metadata": {},
     "output_type": "execute_result"
    }
   ],
   "source": [
    "pd.crosstab(data['Title2'], data['Sex']).T.style.background_gradient(cmap='summer_r')"
   ]
  },
  {
   "cell_type": "code",
   "execution_count": 135,
   "metadata": {},
   "outputs": [
    {
     "data": {
      "text/html": [
       "<style  type=\"text/css\" >\n",
       "    #T_b3750252_f115_11e7_b0af_40e230cab69erow0_col0 {\n",
       "            background-color:  #ffff66;\n",
       "        }    #T_b3750252_f115_11e7_b0af_40e230cab69erow0_col1 {\n",
       "            background-color:  #ffff66;\n",
       "        }    #T_b3750252_f115_11e7_b0af_40e230cab69erow0_col2 {\n",
       "            background-color:  #008066;\n",
       "        }    #T_b3750252_f115_11e7_b0af_40e230cab69erow0_col3 {\n",
       "            background-color:  #ffff66;\n",
       "        }    #T_b3750252_f115_11e7_b0af_40e230cab69erow1_col0 {\n",
       "            background-color:  #008066;\n",
       "        }    #T_b3750252_f115_11e7_b0af_40e230cab69erow1_col1 {\n",
       "            background-color:  #008066;\n",
       "        }    #T_b3750252_f115_11e7_b0af_40e230cab69erow1_col2 {\n",
       "            background-color:  #ffff66;\n",
       "        }    #T_b3750252_f115_11e7_b0af_40e230cab69erow1_col3 {\n",
       "            background-color:  #008066;\n",
       "        }</style>  \n",
       "<table id=\"T_b3750252_f115_11e7_b0af_40e230cab69e\" > \n",
       "<thead>    <tr> \n",
       "        <th class=\"index_name level0\" >Title2</th> \n",
       "        <th class=\"col_heading level0 col0\" >Master</th> \n",
       "        <th class=\"col_heading level0 col1\" >Miss</th> \n",
       "        <th class=\"col_heading level0 col2\" >Mr</th> \n",
       "        <th class=\"col_heading level0 col3\" >Mrs</th> \n",
       "    </tr>    <tr> \n",
       "        <th class=\"index_name level0\" >Survived</th> \n",
       "        <th class=\"blank\" ></th> \n",
       "        <th class=\"blank\" ></th> \n",
       "        <th class=\"blank\" ></th> \n",
       "        <th class=\"blank\" ></th> \n",
       "    </tr></thead> \n",
       "<tbody>    <tr> \n",
       "        <th id=\"T_b3750252_f115_11e7_b0af_40e230cab69elevel0_row0\" class=\"row_heading level0 row0\" >0.0</th> \n",
       "        <td id=\"T_b3750252_f115_11e7_b0af_40e230cab69erow0_col0\" class=\"data row0 col0\" >17</td> \n",
       "        <td id=\"T_b3750252_f115_11e7_b0af_40e230cab69erow0_col1\" class=\"data row0 col1\" >55</td> \n",
       "        <td id=\"T_b3750252_f115_11e7_b0af_40e230cab69erow0_col2\" class=\"data row0 col2\" >451</td> \n",
       "        <td id=\"T_b3750252_f115_11e7_b0af_40e230cab69erow0_col3\" class=\"data row0 col3\" >26</td> \n",
       "    </tr>    <tr> \n",
       "        <th id=\"T_b3750252_f115_11e7_b0af_40e230cab69elevel0_row1\" class=\"row_heading level0 row1\" >1.0</th> \n",
       "        <td id=\"T_b3750252_f115_11e7_b0af_40e230cab69erow1_col0\" class=\"data row1 col0\" >23</td> \n",
       "        <td id=\"T_b3750252_f115_11e7_b0af_40e230cab69erow1_col1\" class=\"data row1 col1\" >130</td> \n",
       "        <td id=\"T_b3750252_f115_11e7_b0af_40e230cab69erow1_col2\" class=\"data row1 col2\" >87</td> \n",
       "        <td id=\"T_b3750252_f115_11e7_b0af_40e230cab69erow1_col3\" class=\"data row1 col3\" >102</td> \n",
       "    </tr></tbody> \n",
       "</table> "
      ],
      "text/plain": [
       "<pandas.io.formats.style.Styler at 0x1bb2781f6a0>"
      ]
     },
     "execution_count": 135,
     "metadata": {},
     "output_type": "execute_result"
    }
   ],
   "source": [
    "pd.crosstab(data['Title2'], data['Survived']).T.style.background_gradient(cmap='summer_r')"
   ]
  },
  {
   "cell_type": "code",
   "execution_count": 136,
   "metadata": {
    "collapsed": true
   },
   "outputs": [],
   "source": [
    "data['Ticket_info'] = data['Ticket'].apply(lambda x : x.replace(\".\",\"\").replace(\"/\",\"\").strip().split(' ')[0] if not x.isdigit() else 'X')"
   ]
  },
  {
   "cell_type": "code",
   "execution_count": 137,
   "metadata": {},
   "outputs": [
    {
     "data": {
      "text/plain": [
       "array(['A5', 'PC', 'STONO2', 'X', 'PP', 'CA', 'SCParis', 'SCA4', 'A4',\n",
       "       'SP', 'SOC', 'WC', 'SOTONOQ', 'WEP', 'STONO', 'C', 'SCPARIS', 'SOP',\n",
       "       'Fa', 'LINE', 'FCC', 'SWPP', 'SCOW', 'PPP', 'SC', 'SCAH', 'AS',\n",
       "       'SOPP', 'FC', 'SOTONO2', 'CASOTON', 'SCA3', 'STONOQ', 'AQ4', 'A',\n",
       "       'LP', 'AQ3'], dtype=object)"
      ]
     },
     "execution_count": 137,
     "metadata": {},
     "output_type": "execute_result"
    }
   ],
   "source": [
    "data['Ticket_info'].unique()"
   ]
  },
  {
   "cell_type": "code",
   "execution_count": 138,
   "metadata": {
    "collapsed": true
   },
   "outputs": [],
   "source": [
    "data['Embarked'] = data['Embarked'].fillna('S')"
   ]
  },
  {
   "cell_type": "code",
   "execution_count": 139,
   "metadata": {
    "collapsed": true
   },
   "outputs": [],
   "source": [
    "data['Fare'] = data['Fare'].fillna(data['Fare'].mean())"
   ]
  },
  {
   "cell_type": "code",
   "execution_count": 140,
   "metadata": {},
   "outputs": [
    {
     "data": {
      "text/plain": [
       "0     NaN\n",
       "1     C85\n",
       "2     NaN\n",
       "3    C123\n",
       "4     NaN\n",
       "Name: Cabin, dtype: object"
      ]
     },
     "execution_count": 140,
     "metadata": {},
     "output_type": "execute_result"
    }
   ],
   "source": [
    "data['Cabin'].head(5)"
   ]
  },
  {
   "cell_type": "code",
   "execution_count": 141,
   "metadata": {
    "collapsed": true
   },
   "outputs": [],
   "source": [
    "data['Cabin'] = data['Cabin'].apply(lambda x : str(x)[0] if not pd.isnull(x) else 'NoCabin')"
   ]
  },
  {
   "cell_type": "code",
   "execution_count": 142,
   "metadata": {},
   "outputs": [
    {
     "data": {
      "text/plain": [
       "array(['NoCabin', 'C', 'E', 'G', 'D', 'A', 'B', 'F', 'T'], dtype=object)"
      ]
     },
     "execution_count": 142,
     "metadata": {},
     "output_type": "execute_result"
    }
   ],
   "source": [
    "data['Cabin'].unique()"
   ]
  },
  {
   "cell_type": "code",
   "execution_count": 143,
   "metadata": {
    "scrolled": true
   },
   "outputs": [
    {
     "data": {
      "text/plain": [
       "<matplotlib.axes._subplots.AxesSubplot at 0x1bb292ac7b8>"
      ]
     },
     "execution_count": 143,
     "metadata": {},
     "output_type": "execute_result"
    },
    {
     "data": {
      "image/png": "[encoded data removed]",
      "text/plain": [
       "<matplotlib.figure.Figure at 0x1bb292a5470>"
      ]
     },
     "metadata": {},
     "output_type": "display_data"
    }
   ],
   "source": [
    "sns.countplot(data['Cabin'], hue=data['Survived'])"
   ]
  },
  {
   "cell_type": "code",
   "execution_count": 144,
   "metadata": {
    "collapsed": true
   },
   "outputs": [],
   "source": [
    "# convert categorical values to int for fitting classifier later.\n",
    "data['Sex'] = data['Sex'].astype('category').cat.codes\n",
    "data['Embarked'] = data['Embarked'].astype('category').cat.codes\n",
    "data['Pclass'] = data['Pclass'].astype('category').cat.codes\n",
    "data['Title1'] = data['Title1'].astype('category').cat.codes\n",
    "data['Title2'] = data['Title2'].astype('category').cat.codes\n",
    "data['Cabin'] = data['Cabin'].astype('category').cat.codes\n",
    "data['Ticket_info'] = data['Ticket_info'].astype('category').cat.codes"
   ]
  },
  {
   "cell_type": "code",
   "execution_count": 145,
   "metadata": {},
   "outputs": [
    {
     "name": "stderr",
     "output_type": "stream",
     "text": [
      "C:\\Users\\Stock\\Anaconda3\\lib\\site-packages\\pandas\\core\\indexing.py:517: SettingWithCopyWarning: \n",
      "A value is trying to be set on a copy of a slice from a DataFrame.\n",
      "Try using .loc[row_indexer,col_indexer] = value instead\n",
      "\n",
      "See the caveats in the documentation: http://pandas.pydata.org/pandas-docs/stable/indexing.html#indexing-view-versus-copy\n",
      "  self.obj[item] = s\n"
     ]
    }
   ],
   "source": [
    "dataAgeNull = data[data[\"Age\"].isnull()]\n",
    "dataAgeNotNull = data[data[\"Age\"].notnull()]\n",
    "remove_outlier = dataAgeNotNull[(np.abs(dataAgeNotNull[\"Fare\"]-dataAgeNotNull[\"Fare\"].mean())>(4*dataAgeNotNull[\"Fare\"].std()))|\n",
    "                      (np.abs(dataAgeNotNull[\"Family_Size\"]-dataAgeNotNull[\"Family_Size\"].mean())>(4*dataAgeNotNull[\"Family_Size\"].std()))                     \n",
    "                     ]\n",
    "rfModel_age = RandomForestRegressor(n_estimators=2000,random_state=42)\n",
    "ageColumns = ['Embarked', 'Fare', 'Pclass', 'Sex', 'Family_Size', 'Title1', 'Title2','Cabin','Ticket_info']\n",
    "rfModel_age.fit(remove_outlier[ageColumns], remove_outlier[\"Age\"])\n",
    "\n",
    "ageNullValues = rfModel_age.predict(X= dataAgeNull[ageColumns])\n",
    "dataAgeNull.loc[:,\"Age\"] = ageNullValues\n",
    "data = dataAgeNull.append(dataAgeNotNull)\n",
    "data.reset_index(inplace=True, drop=True)"
   ]
  },
  {
   "cell_type": "code",
   "execution_count": 146,
   "metadata": {
    "collapsed": true,
    "scrolled": true
   },
   "outputs": [],
   "source": [
    "dataTrain = data[pd.notnull(data['Survived'])].sort_values(by=[\"PassengerId\"])\n",
    "dataTest = data[~pd.notnull(data['Survived'])].sort_values(by=[\"PassengerId\"])"
   ]
  },
  {
   "cell_type": "code",
   "execution_count": 147,
   "metadata": {
    "scrolled": true
   },
   "outputs": [
    {
     "data": {
      "text/plain": [
       "Index(['Age', 'Cabin', 'Embarked', 'Fare', 'Name', 'Parch', 'PassengerId',\n",
       "       'Pclass', 'Sex', 'SibSp', 'Survived', 'Ticket', 'Family_Size', 'Title1',\n",
       "       'Title2', 'Ticket_info'],\n",
       "      dtype='object')"
      ]
     },
     "execution_count": 147,
     "metadata": {},
     "output_type": "execute_result"
    }
   ],
   "source": [
    "dataTrain.columns"
   ]
  },
  {
   "cell_type": "code",
   "execution_count": 148,
   "metadata": {
    "collapsed": true
   },
   "outputs": [],
   "source": [
    "dataTrain = dataTrain[['Survived', 'Age', 'Embarked', 'Fare',  'Pclass', 'Sex', 'Family_Size', 'Title2','Ticket_info','Cabin']]\n",
    "dataTest = dataTest[['Age', 'Embarked', 'Fare', 'Pclass', 'Sex', 'Family_Size', 'Title2','Ticket_info','Cabin']]"
   ]
  },
  {
   "cell_type": "code",
   "execution_count": 150,
   "metadata": {},
   "outputs": [
    {
     "data": {
      "text/html": [
       "<div>\n",
       "<style>\n",
       "    .dataframe thead tr:only-child th {\n",
       "        text-align: right;\n",
       "    }\n",
       "\n",
       "    .dataframe thead th {\n",
       "        text-align: left;\n",
       "    }\n",
       "\n",
       "    .dataframe tbody tr th {\n",
       "        vertical-align: top;\n",
       "    }\n",
       "</style>\n",
       "<table border=\"1\" class=\"dataframe\">\n",
       "  <thead>\n",
       "    <tr style=\"text-align: right;\">\n",
       "      <th></th>\n",
       "      <th>Survived</th>\n",
       "      <th>Age</th>\n",
       "      <th>Embarked</th>\n",
       "      <th>Fare</th>\n",
       "      <th>Pclass</th>\n",
       "      <th>Sex</th>\n",
       "      <th>Family_Size</th>\n",
       "      <th>Title2</th>\n",
       "      <th>Ticket_info</th>\n",
       "      <th>Cabin</th>\n",
       "    </tr>\n",
       "  </thead>\n",
       "  <tbody>\n",
       "    <tr>\n",
       "      <th>263</th>\n",
       "      <td>0.0</td>\n",
       "      <td>22.0</td>\n",
       "      <td>2</td>\n",
       "      <td>7.2500</td>\n",
       "      <td>2</td>\n",
       "      <td>1</td>\n",
       "      <td>1</td>\n",
       "      <td>2</td>\n",
       "      <td>2</td>\n",
       "      <td>7</td>\n",
       "    </tr>\n",
       "    <tr>\n",
       "      <th>264</th>\n",
       "      <td>1.0</td>\n",
       "      <td>38.0</td>\n",
       "      <td>0</td>\n",
       "      <td>71.2833</td>\n",
       "      <td>0</td>\n",
       "      <td>0</td>\n",
       "      <td>1</td>\n",
       "      <td>3</td>\n",
       "      <td>14</td>\n",
       "      <td>2</td>\n",
       "    </tr>\n",
       "    <tr>\n",
       "      <th>265</th>\n",
       "      <td>1.0</td>\n",
       "      <td>26.0</td>\n",
       "      <td>2</td>\n",
       "      <td>7.9250</td>\n",
       "      <td>2</td>\n",
       "      <td>0</td>\n",
       "      <td>0</td>\n",
       "      <td>1</td>\n",
       "      <td>31</td>\n",
       "      <td>7</td>\n",
       "    </tr>\n",
       "  </tbody>\n",
       "</table>\n",
       "</div>"
      ],
      "text/plain": [
       "     Survived   Age  Embarked     Fare  Pclass  Sex  Family_Size  Title2  \\\n",
       "263       0.0  22.0         2   7.2500       2    1            1       2   \n",
       "264       1.0  38.0         0  71.2833       0    0            1       3   \n",
       "265       1.0  26.0         2   7.9250       2    0            0       1   \n",
       "\n",
       "     Ticket_info  Cabin  \n",
       "263            2      7  \n",
       "264           14      2  \n",
       "265           31      7  "
      ]
     },
     "execution_count": 150,
     "metadata": {},
     "output_type": "execute_result"
    }
   ],
   "source": [
    "dataTrain.head(3)"
   ]
  },
  {
   "cell_type": "code",
   "execution_count": 160,
   "metadata": {},
   "outputs": [
    {
     "data": {
      "text/plain": [
       "SVC(C=1.0, cache_size=200, class_weight=None, coef0=0.0,\n",
       "  decision_function_shape='ovr', degree=3, gamma='auto', kernel='rbf',\n",
       "  max_iter=-1, probability=False, random_state=None, shrinking=True,\n",
       "  tol=0.001, verbose=False)"
      ]
     },
     "execution_count": 160,
     "metadata": {},
     "output_type": "execute_result"
    }
   ],
   "source": [
    "# using SVM to predict\n",
    "from sklearn.svm import SVC\n",
    "classifier = SVC(kernel='rbf')\n",
    "classifier.fit(dataTrain.iloc[:, 1:], dataTrain.iloc[:, 0])"
   ]
  },
  {
   "cell_type": "code",
   "execution_count": 163,
   "metadata": {
    "collapsed": true
   },
   "outputs": [],
   "source": [
    "rf_res =  classifier.predict(dataTest)\n",
    "submit['Survived'] = rf_res\n",
    "submit['Survived'] = submit['Survived'].astype(int)\n",
    "submit.to_csv('submit.csv', index= False)"
   ]
  },
  {
   "cell_type": "code",
   "execution_count": 167,
   "metadata": {},
   "outputs": [
    {
     "name": "stdout",
     "output_type": "stream",
     "text": [
      "0.8294\n"
     ]
    }
   ],
   "source": [
    "# using RandomForest to predict\n",
    "rf = RandomForestClassifier(criterion='gini', \n",
    "                             n_estimators=1000,\n",
    "                             min_samples_split=12,\n",
    "                             min_samples_leaf=1,\n",
    "                             oob_score=True,\n",
    "                             random_state=1,\n",
    "                             n_jobs=-1) \n",
    "\n",
    "rf.fit(dataTrain.iloc[:, 1:], dataTrain.iloc[:, 0])\n",
    "print(\"%.4f\" % rf.oob_score_)"
   ]
  },
  {
   "cell_type": "code",
   "execution_count": 166,
   "metadata": {
    "collapsed": true
   },
   "outputs": [],
   "source": []
  },
  {
   "cell_type": "code",
   "execution_count": null,
   "metadata": {
    "collapsed": true
   },
   "outputs": [],
   "source": []
  }
 ],
 "metadata": {
  "kernelspec": {
   "display_name": "Python 3",
   "language": "python",
   "name": "python3"
  },
  "language_info": {
   "codemirror_mode": {
    "name": "ipython",
    "version": 3
   },
   "file_extension": ".py",
   "mimetype": "text/x-python",
   "name": "python",
   "nbconvert_exporter": "python",
   "pygments_lexer": "ipython3",
   "version": "3.7.1"
  }
 },
 "nbformat": 4,
 "nbformat_minor": 2
}
